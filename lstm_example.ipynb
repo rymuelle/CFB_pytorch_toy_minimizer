{
  "nbformat": 4,
  "nbformat_minor": 0,
  "metadata": {
    "colab": {
      "name": "lstm_example.ipynb",
      "provenance": [],
      "authorship_tag": "ABX9TyMXDS2ZakeLob2x+C7zR7Oo",
      "include_colab_link": true
    },
    "kernelspec": {
      "name": "python3",
      "display_name": "Python 3"
    }
  },
  "cells": [
    {
      "cell_type": "markdown",
      "metadata": {
        "id": "view-in-github",
        "colab_type": "text"
      },
      "source": [
        "<a href=\"https://colab.research.google.com/github/rymuelle/CFB_pytorch_toy_minimizer/blob/master/lstm_example.ipynb\" target=\"_parent\"><img src=\"https://colab.research.google.com/assets/colab-badge.svg\" alt=\"Open In Colab\"/></a>"
      ]
    },
    {
      "cell_type": "markdown",
      "metadata": {
        "id": "YAFZCmYuIKkk",
        "colab_type": "text"
      },
      "source": [
        "This follows https://stackabuse.com/time-series-prediction-using-lstm-with-pytorch-in-python/, and is just an example of an lstm."
      ]
    },
    {
      "cell_type": "code",
      "metadata": {
        "id": "_RoEOOPvIGwr",
        "colab_type": "code",
        "colab": {
          "base_uri": "https://localhost:8080/",
          "height": 71
        },
        "outputId": "b6c5fd25-1811-4af5-ce41-44b926979d9b"
      },
      "source": [
        "import torch\n",
        "import torch.nn as nn\n",
        "\n",
        "import seaborn as sns\n",
        "import numpy as np\n",
        "import pandas as pd\n",
        "import matplotlib.pyplot as plt\n",
        "%matplotlib inline"
      ],
      "execution_count": 1,
      "outputs": [
        {
          "output_type": "stream",
          "text": [
            "/usr/local/lib/python3.6/dist-packages/statsmodels/tools/_testing.py:19: FutureWarning: pandas.util.testing is deprecated. Use the functions in the public API at pandas.testing instead.\n",
            "  import pandas.util.testing as tm\n"
          ],
          "name": "stderr"
        }
      ]
    },
    {
      "cell_type": "code",
      "metadata": {
        "id": "HgvIxaKfIYZz",
        "colab_type": "code",
        "colab": {
          "base_uri": "https://localhost:8080/",
          "height": 411
        },
        "outputId": "824df5cf-32a5-4527-dd11-74ab7e5e5792"
      },
      "source": [
        "sns.get_dataset_names()"
      ],
      "execution_count": 2,
      "outputs": [
        {
          "output_type": "stream",
          "text": [
            "/usr/local/lib/python3.6/dist-packages/seaborn/utils.py:384: UserWarning: No parser was explicitly specified, so I'm using the best available HTML parser for this system (\"lxml\"). This usually isn't a problem, but if you run this code on another system, or in a different virtual environment, it may use a different parser and behave differently.\n",
            "\n",
            "The code that caused this warning is on line 384 of the file /usr/local/lib/python3.6/dist-packages/seaborn/utils.py. To get rid of this warning, pass the additional argument 'features=\"lxml\"' to the BeautifulSoup constructor.\n",
            "\n",
            "  gh_list = BeautifulSoup(http)\n"
          ],
          "name": "stderr"
        },
        {
          "output_type": "execute_result",
          "data": {
            "text/plain": [
              "['anscombe',\n",
              " 'attention',\n",
              " 'brain_networks',\n",
              " 'car_crashes',\n",
              " 'diamonds',\n",
              " 'dots',\n",
              " 'exercise',\n",
              " 'flights',\n",
              " 'fmri',\n",
              " 'gammas',\n",
              " 'geyser',\n",
              " 'iris',\n",
              " 'mpg',\n",
              " 'penguins',\n",
              " 'planets',\n",
              " 'tips',\n",
              " 'titanic']"
            ]
          },
          "metadata": {
            "tags": []
          },
          "execution_count": 2
        }
      ]
    },
    {
      "cell_type": "code",
      "metadata": {
        "id": "mwYmueM3IdgT",
        "colab_type": "code",
        "colab": {
          "base_uri": "https://localhost:8080/",
          "height": 204
        },
        "outputId": "a22ecbe8-5873-46eb-b557-c95036b703ae"
      },
      "source": [
        "flight_data = sns.load_dataset(\"flights\")\n",
        "flight_data.head()"
      ],
      "execution_count": 3,
      "outputs": [
        {
          "output_type": "execute_result",
          "data": {
            "text/html": [
              "<div>\n",
              "<style scoped>\n",
              "    .dataframe tbody tr th:only-of-type {\n",
              "        vertical-align: middle;\n",
              "    }\n",
              "\n",
              "    .dataframe tbody tr th {\n",
              "        vertical-align: top;\n",
              "    }\n",
              "\n",
              "    .dataframe thead th {\n",
              "        text-align: right;\n",
              "    }\n",
              "</style>\n",
              "<table border=\"1\" class=\"dataframe\">\n",
              "  <thead>\n",
              "    <tr style=\"text-align: right;\">\n",
              "      <th></th>\n",
              "      <th>year</th>\n",
              "      <th>month</th>\n",
              "      <th>passengers</th>\n",
              "    </tr>\n",
              "  </thead>\n",
              "  <tbody>\n",
              "    <tr>\n",
              "      <th>0</th>\n",
              "      <td>1949</td>\n",
              "      <td>January</td>\n",
              "      <td>112</td>\n",
              "    </tr>\n",
              "    <tr>\n",
              "      <th>1</th>\n",
              "      <td>1949</td>\n",
              "      <td>February</td>\n",
              "      <td>118</td>\n",
              "    </tr>\n",
              "    <tr>\n",
              "      <th>2</th>\n",
              "      <td>1949</td>\n",
              "      <td>March</td>\n",
              "      <td>132</td>\n",
              "    </tr>\n",
              "    <tr>\n",
              "      <th>3</th>\n",
              "      <td>1949</td>\n",
              "      <td>April</td>\n",
              "      <td>129</td>\n",
              "    </tr>\n",
              "    <tr>\n",
              "      <th>4</th>\n",
              "      <td>1949</td>\n",
              "      <td>May</td>\n",
              "      <td>121</td>\n",
              "    </tr>\n",
              "  </tbody>\n",
              "</table>\n",
              "</div>"
            ],
            "text/plain": [
              "   year     month  passengers\n",
              "0  1949   January         112\n",
              "1  1949  February         118\n",
              "2  1949     March         132\n",
              "3  1949     April         129\n",
              "4  1949       May         121"
            ]
          },
          "metadata": {
            "tags": []
          },
          "execution_count": 3
        }
      ]
    },
    {
      "cell_type": "code",
      "metadata": {
        "id": "gGysbIOFIkcT",
        "colab_type": "code",
        "colab": {
          "base_uri": "https://localhost:8080/",
          "height": 34
        },
        "outputId": "dccf5639-7d62-4cfd-e891-5b58fd5b4355"
      },
      "source": [
        "flight_data.shape"
      ],
      "execution_count": 4,
      "outputs": [
        {
          "output_type": "execute_result",
          "data": {
            "text/plain": [
              "(144, 3)"
            ]
          },
          "metadata": {
            "tags": []
          },
          "execution_count": 4
        }
      ]
    },
    {
      "cell_type": "code",
      "metadata": {
        "id": "xwSepkQ9Iud_",
        "colab_type": "code",
        "colab": {}
      },
      "source": [
        "fig_size = plt.rcParams[\"figure.figsize\"]\n",
        "fig_size[0] = 15\n",
        "fig_size[1] = 5\n",
        "plt.rcParams[\"figure.figsize\"] = fig_size"
      ],
      "execution_count": 5,
      "outputs": []
    },
    {
      "cell_type": "code",
      "metadata": {
        "id": "wUKdTp5LIyJ_",
        "colab_type": "code",
        "colab": {
          "base_uri": "https://localhost:8080/",
          "height": 367
        },
        "outputId": "1bc13303-4808-4e92-d9f7-37428cd76a4a"
      },
      "source": [
        "plt.title('Month vs Passenger')\n",
        "plt.ylabel('Total Passengers')\n",
        "plt.xlabel('Months')\n",
        "plt.grid(True)\n",
        "plt.autoscale(axis='x',tight=True)\n",
        "plt.plot(flight_data['passengers'])"
      ],
      "execution_count": 6,
      "outputs": [
        {
          "output_type": "execute_result",
          "data": {
            "text/plain": [
              "[<matplotlib.lines.Line2D at 0x7f1d3326e0b8>]"
            ]
          },
          "metadata": {
            "tags": []
          },
          "execution_count": 6
        },
        {
          "output_type": "display_data",
          "data": {
            "image/png": "[encoded data removed]",
            "text/plain": [
              "<Figure size 1080x360 with 1 Axes>"
            ]
          },
          "metadata": {
            "tags": [],
            "needs_background": "light"
          }
        }
      ]
    },
    {
      "cell_type": "code",
      "metadata": {
        "id": "04z5lzjmI1cV",
        "colab_type": "code",
        "colab": {
          "base_uri": "https://localhost:8080/",
          "height": 204
        },
        "outputId": "46b0dfac-42c9-4bdd-b536-2dc0a63b18ed"
      },
      "source": [
        "all_data = flight_data['passengers'].values.astype(float)\n",
        "print(all_data)\n"
      ],
      "execution_count": 7,
      "outputs": [
        {
          "output_type": "stream",
          "text": [
            "[112. 118. 132. 129. 121. 135. 148. 148. 136. 119. 104. 118. 115. 126.\n",
            " 141. 135. 125. 149. 170. 170. 158. 133. 114. 140. 145. 150. 178. 163.\n",
            " 172. 178. 199. 199. 184. 162. 146. 166. 171. 180. 193. 181. 183. 218.\n",
            " 230. 242. 209. 191. 172. 194. 196. 196. 236. 235. 229. 243. 264. 272.\n",
            " 237. 211. 180. 201. 204. 188. 235. 227. 234. 264. 302. 293. 259. 229.\n",
            " 203. 229. 242. 233. 267. 269. 270. 315. 364. 347. 312. 274. 237. 278.\n",
            " 284. 277. 317. 313. 318. 374. 413. 405. 355. 306. 271. 306. 315. 301.\n",
            " 356. 348. 355. 422. 465. 467. 404. 347. 305. 336. 340. 318. 362. 348.\n",
            " 363. 435. 491. 505. 404. 359. 310. 337. 360. 342. 406. 396. 420. 472.\n",
            " 548. 559. 463. 407. 362. 405. 417. 391. 419. 461. 472. 535. 622. 606.\n",
            " 508. 461. 390. 432.]\n"
          ],
          "name": "stdout"
        }
      ]
    },
    {
      "cell_type": "code",
      "metadata": {
        "id": "zF2wbVATJA0n",
        "colab_type": "code",
        "colab": {
          "base_uri": "https://localhost:8080/",
          "height": 51
        },
        "outputId": "9784e873-f351-4b1f-b3bb-3f87d736fc12"
      },
      "source": [
        "test_data_size = 12\n",
        "\n",
        "train_data = all_data[:-test_data_size]\n",
        "test_data = all_data[-test_data_size:]\n",
        "print(len(train_data))\n",
        "print(len(test_data))"
      ],
      "execution_count": 8,
      "outputs": [
        {
          "output_type": "stream",
          "text": [
            "132\n",
            "12\n"
          ],
          "name": "stdout"
        }
      ]
    },
    {
      "cell_type": "code",
      "metadata": {
        "id": "W9mwfq49JOeF",
        "colab_type": "code",
        "colab": {
          "base_uri": "https://localhost:8080/",
          "height": 102
        },
        "outputId": "6662e409-df4f-447d-96aa-8b6eb84f2e26"
      },
      "source": [
        "from sklearn.preprocessing import MinMaxScaler\n",
        "\n",
        "scaler = MinMaxScaler(feature_range=(-1, 1))\n",
        "train_data_normalized = scaler.fit_transform(train_data .reshape(-1, 1))\n",
        "print(train_data_normalized[:5])"
      ],
      "execution_count": 9,
      "outputs": [
        {
          "output_type": "stream",
          "text": [
            "[[-0.96483516]\n",
            " [-0.93846154]\n",
            " [-0.87692308]\n",
            " [-0.89010989]\n",
            " [-0.92527473]]\n"
          ],
          "name": "stdout"
        }
      ]
    },
    {
      "cell_type": "markdown",
      "metadata": {
        "id": "m90Q6JqPKF6A",
        "colab_type": "text"
      },
      "source": [
        "So far, we've just gotten the data and normalized it. Now we are going to actually start doing torch stuff. First, we convert data to a tensor."
      ]
    },
    {
      "cell_type": "code",
      "metadata": {
        "id": "GEAWJfK6JjfI",
        "colab_type": "code",
        "colab": {}
      },
      "source": [
        "train_data_normalized = torch.FloatTensor(train_data_normalized).view(-1)"
      ],
      "execution_count": 10,
      "outputs": []
    },
    {
      "cell_type": "markdown",
      "metadata": {
        "id": "Cn-MFowKKU2c",
        "colab_type": "text"
      },
      "source": [
        "Now, we convert our data into sequences and labels. The training window is 12, since we have monthly data."
      ]
    },
    {
      "cell_type": "code",
      "metadata": {
        "id": "YyKQMFh8KTkc",
        "colab_type": "code",
        "colab": {}
      },
      "source": [
        "train_window = 12\n"
      ],
      "execution_count": 11,
      "outputs": []
    },
    {
      "cell_type": "code",
      "metadata": {
        "id": "NWUH0dz2Kp-W",
        "colab_type": "code",
        "colab": {}
      },
      "source": [
        "def create_inout_sequences(input_data, tw):\n",
        "    inout_seq = []\n",
        "    L = len(input_data)\n",
        "    for i in range(L-tw):\n",
        "        train_seq = input_data[i:i+tw]\n",
        "        train_label = input_data[i+tw:i+tw+1]\n",
        "        inout_seq.append((train_seq ,train_label))\n",
        "    return inout_seq"
      ],
      "execution_count": 12,
      "outputs": []
    },
    {
      "cell_type": "code",
      "metadata": {
        "id": "0SBjMYDaKq-N",
        "colab_type": "code",
        "colab": {
          "base_uri": "https://localhost:8080/",
          "height": 204
        },
        "outputId": "42acef60-280d-4795-cbe2-9e1c97483b52"
      },
      "source": [
        "train_inout_seq = create_inout_sequences(train_data_normalized, train_window)\n",
        "train_inout_seq[:5]"
      ],
      "execution_count": 13,
      "outputs": [
        {
          "output_type": "execute_result",
          "data": {
            "text/plain": [
              "[(tensor([-0.9648, -0.9385, -0.8769, -0.8901, -0.9253, -0.8637, -0.8066, -0.8066,\n",
              "          -0.8593, -0.9341, -1.0000, -0.9385]), tensor([-0.9516])),\n",
              " (tensor([-0.9385, -0.8769, -0.8901, -0.9253, -0.8637, -0.8066, -0.8066, -0.8593,\n",
              "          -0.9341, -1.0000, -0.9385, -0.9516]),\n",
              "  tensor([-0.9033])),\n",
              " (tensor([-0.8769, -0.8901, -0.9253, -0.8637, -0.8066, -0.8066, -0.8593, -0.9341,\n",
              "          -1.0000, -0.9385, -0.9516, -0.9033]), tensor([-0.8374])),\n",
              " (tensor([-0.8901, -0.9253, -0.8637, -0.8066, -0.8066, -0.8593, -0.9341, -1.0000,\n",
              "          -0.9385, -0.9516, -0.9033, -0.8374]), tensor([-0.8637])),\n",
              " (tensor([-0.9253, -0.8637, -0.8066, -0.8066, -0.8593, -0.9341, -1.0000, -0.9385,\n",
              "          -0.9516, -0.9033, -0.8374, -0.8637]), tensor([-0.9077]))]"
            ]
          },
          "metadata": {
            "tags": []
          },
          "execution_count": 13
        }
      ]
    },
    {
      "cell_type": "markdown",
      "metadata": {
        "id": "tDVUqWaVK6Xn",
        "colab_type": "text"
      },
      "source": [
        "Now we have an array of sequences of 12 length with the next value, starting at 0, then 1, then 2 ... indecies.\n",
        "\n",
        "Now, we will swdinw oue model:"
      ]
    },
    {
      "cell_type": "code",
      "metadata": {
        "id": "QMHDz5uwK0ij",
        "colab_type": "code",
        "colab": {}
      },
      "source": [
        "class LSTM(nn.Module):\n",
        "  def __init__(self, input_size=1, hidden_layer_size=100, output_size=1):\n",
        "    super().__init__()\n",
        "    self.hidden_layer_size=hidden_layer_size\n",
        "\n",
        "    self.lstm=nn.LSTM(input_size,hidden_layer_size)\n",
        "\n",
        "    self.linear=nn.Linear(hidden_layer_size,output_size)\n",
        "\n",
        "    self.hidden_cell=(torch.zeros(1,1,self.hidden_layer_size),\n",
        "                      torch.zeros(1,1,hidden_layer_size))\n",
        "  def forward(self, input_seq):\n",
        "    lstm_out, self.hidden_cell = self.lstm(input_seq.view(len(input_seq),1,-1),\n",
        "                                           self.hidden_cell)\n",
        "    predictions = self.linear(lstm_out.view(len(input_seq),-1))\n",
        "    return predictions[-1]"
      ],
      "execution_count": 14,
      "outputs": []
    },
    {
      "cell_type": "code",
      "metadata": {
        "id": "wf82fe2fQoLN",
        "colab_type": "code",
        "colab": {}
      },
      "source": [
        "model=LSTM()\n",
        "loss_function=nn.MSELoss()\n",
        "optimizer=torch.optim.Adam(model.parameters(), lr=1e-3)"
      ],
      "execution_count": 15,
      "outputs": []
    },
    {
      "cell_type": "code",
      "metadata": {
        "id": "vhfQhrggS0zH",
        "colab_type": "code",
        "colab": {
          "base_uri": "https://localhost:8080/",
          "height": 85
        },
        "outputId": "f29e1813-e581-4ff6-b43b-751b4f4c20a3"
      },
      "source": [
        "print(model)"
      ],
      "execution_count": 16,
      "outputs": [
        {
          "output_type": "stream",
          "text": [
            "LSTM(\n",
            "  (lstm): LSTM(1, 100)\n",
            "  (linear): Linear(in_features=100, out_features=1, bias=True)\n",
            ")\n"
          ],
          "name": "stdout"
        }
      ]
    },
    {
      "cell_type": "code",
      "metadata": {
        "id": "fZXOYsE_S9Cf",
        "colab_type": "code",
        "colab": {
          "base_uri": "https://localhost:8080/",
          "height": 136
        },
        "outputId": "72c2a42d-364a-4725-fb47-cce5158c3bf0"
      },
      "source": [
        "epochs=150\n",
        "\n",
        "for i in range(epochs):\n",
        "  for seq, labels in train_inout_seq:\n",
        "    optimizer.zero_grad()\n",
        "    model.hidden_cell=(torch.zeros(1,1,model.hidden_layer_size),\n",
        "                       torch.zeros(1,1,model.hidden_layer_size))\n",
        "    y_pred = model(seq)\n",
        "    single_loss=loss_function(y_pred,labels)\n",
        "    single_loss.backward()\n",
        "    optimizer.step()\n",
        "  if i%25==1:\n",
        "    print(f'epoch: {i:3} loss: {single_loss.item():10.8f}')\n",
        "\n",
        "print(f'epoch: {i:3} loss: {single_loss.item():10.10f}')"
      ],
      "execution_count": 17,
      "outputs": [
        {
          "output_type": "stream",
          "text": [
            "epoch:   1 loss: 0.03645076\n",
            "epoch:  26 loss: 0.00696933\n",
            "epoch:  51 loss: 0.00006054\n",
            "epoch:  76 loss: 0.01282137\n",
            "epoch: 101 loss: 0.00208967\n",
            "epoch: 126 loss: 0.00000000\n",
            "epoch: 149 loss: 0.0073790420\n"
          ],
          "name": "stdout"
        }
      ]
    },
    {
      "cell_type": "markdown",
      "metadata": {
        "id": "tcb7r00ubrOm",
        "colab_type": "text"
      },
      "source": [
        "Now, we make future predictions."
      ]
    },
    {
      "cell_type": "code",
      "metadata": {
        "id": "6_OABtvkZMdH",
        "colab_type": "code",
        "colab": {
          "base_uri": "https://localhost:8080/",
          "height": 221
        },
        "outputId": "1c1835fa-87fa-46e6-8aef-e22182228e21"
      },
      "source": [
        "fut_pred=12\n",
        "test_inputs=train_data_normalized[-train_window:].tolist()\n",
        "test_inputs"
      ],
      "execution_count": 18,
      "outputs": [
        {
          "output_type": "execute_result",
          "data": {
            "text/plain": [
              "[0.12527473270893097,\n",
              " 0.04615384712815285,\n",
              " 0.3274725377559662,\n",
              " 0.2835164964199066,\n",
              " 0.3890109956264496,\n",
              " 0.6175824403762817,\n",
              " 0.9516483545303345,\n",
              " 1.0,\n",
              " 0.5780220031738281,\n",
              " 0.33186814188957214,\n",
              " 0.13406594097614288,\n",
              " 0.32307693362236023]"
            ]
          },
          "metadata": {
            "tags": []
          },
          "execution_count": 18
        }
      ]
    },
    {
      "cell_type": "markdown",
      "metadata": {
        "id": "M9Dm2P6QcE84",
        "colab_type": "text"
      },
      "source": [
        "make prediction"
      ]
    },
    {
      "cell_type": "code",
      "metadata": {
        "id": "m-jicviYb6x9",
        "colab_type": "code",
        "colab": {
          "base_uri": "https://localhost:8080/",
          "height": 221
        },
        "outputId": "853603eb-6acf-4ed5-d96e-4d81754df4bf"
      },
      "source": [
        "model.eval()\n",
        "\n",
        "for i in range(fut_pred):\n",
        "  seq=torch.FloatTensor(test_inputs[-train_window:])\n",
        "  with torch.no_grad():\n",
        "    model.hidden=(torch.zeros(1,1, model.hidden_layer_size),\n",
        "                  torch.zeros(1,1,model.hidden_layer_size))\n",
        "    test_inputs.append(model(seq).item())\n",
        "test_inputs[fut_pred:]"
      ],
      "execution_count": 19,
      "outputs": [
        {
          "output_type": "execute_result",
          "data": {
            "text/plain": [
              "[0.3889837861061096,\n",
              " 0.4836583137512207,\n",
              " 0.5069672465324402,\n",
              " 0.6610338091850281,\n",
              " 0.6598962545394897,\n",
              " 0.6657671928405762,\n",
              " 0.8845106959342957,\n",
              " 0.7613509297370911,\n",
              " 1.0347633361816406,\n",
              " 0.8668332695960999,\n",
              " 1.070805311203003,\n",
              " 1.131957769393921]"
            ]
          },
          "metadata": {
            "tags": []
          },
          "execution_count": 19
        }
      ]
    },
    {
      "cell_type": "markdown",
      "metadata": {
        "id": "XKSigEObc597",
        "colab_type": "text"
      },
      "source": [
        "un-normalize"
      ]
    },
    {
      "cell_type": "code",
      "metadata": {
        "id": "pOsOM6VQcMSD",
        "colab_type": "code",
        "colab": {
          "base_uri": "https://localhost:8080/",
          "height": 221
        },
        "outputId": "a3f8a33f-bd78-4ce5-8a44-fa66e1d12418"
      },
      "source": [
        "actual_predictions=scaler.inverse_transform(np.array(test_inputs[train_window:]).reshape(-1,1))\n",
        "actual_predictions"
      ],
      "execution_count": 20,
      "outputs": [
        {
          "output_type": "execute_result",
          "data": {
            "text/plain": [
              "array([[419.99381134],\n",
              "       [441.53226638],\n",
              "       [446.83504859],\n",
              "       [481.88519159],\n",
              "       [481.62639791],\n",
              "       [482.96203637],\n",
              "       [532.72618333],\n",
              "       [504.70733652],\n",
              "       [566.90865898],\n",
              "       [528.70456883],\n",
              "       [575.1082083 ],\n",
              "       [589.02039254]])"
            ]
          },
          "metadata": {
            "tags": []
          },
          "execution_count": 20
        }
      ]
    },
    {
      "cell_type": "code",
      "metadata": {
        "id": "ILs8fhsmdKXQ",
        "colab_type": "code",
        "colab": {
          "base_uri": "https://localhost:8080/",
          "height": 336
        },
        "outputId": "cb2fe36d-fce2-4c55-832c-0c68685e3d81"
      },
      "source": [
        "x=np.arange(132,144,1)\n",
        "plt.title('Month vs Passenger')\n",
        "plt.ylabel('Total Passengers')\n",
        "plt.grid(True)\n",
        "plt.autoscale(axis='x', tight=True)\n",
        "plt.plot(flight_data['passengers'])\n",
        "plt.plot(x,actual_predictions)\n",
        "plt.show()"
      ],
      "execution_count": 21,
      "outputs": [
        {
          "output_type": "display_data",
          "data": {
            "image/png": "[encoded data removed]",
            "text/plain": [
              "<Figure size 1080x360 with 1 Axes>"
            ]
          },
          "metadata": {
            "tags": [],
            "needs_background": "light"
          }
        }
      ]
    },
    {
      "cell_type": "code",
      "metadata": {
        "id": "w5a1ahG8dw_n",
        "colab_type": "code",
        "colab": {}
      },
      "source": [
        ""
      ],
      "execution_count": 21,
      "outputs": []
    }
  ]
}