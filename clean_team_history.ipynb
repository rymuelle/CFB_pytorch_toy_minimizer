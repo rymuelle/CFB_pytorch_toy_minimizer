{
  "nbformat": 4,
  "nbformat_minor": 0,
  "metadata": {
    "colab": {
      "name": "clean_team_history.ipynb",
      "provenance": [],
      "collapsed_sections": [],
      "authorship_tag": "ABX9TyPjjXyBhH6kgmD6jVUEprqs",
      "include_colab_link": true
    },
    "kernelspec": {
      "name": "python3",
      "display_name": "Python 3"
    },
    "accelerator": "GPU"
  },
  "cells": [
    {
      "cell_type": "markdown",
      "metadata": {
        "id": "view-in-github",
        "colab_type": "text"
      },
      "source": [
        "<a href=\"https://colab.research.google.com/github/rymuelle/CFB_pytorch_toy_minimizer/blob/master/clean_team_history.ipynb\" target=\"_parent\"><img src=\"https://colab.research.google.com/assets/colab-badge.svg\" alt=\"Open In Colab\"/></a>"
      ]
    },
    {
      "cell_type": "code",
      "metadata": {
        "id": "OOQdMGvLVrMa",
        "colab_type": "code",
        "colab": {}
      },
      "source": [
        "import numpy as np\n",
        "import pandas as pd\n",
        "from google.colab import files, drive\n",
        "import os\n",
        "import math\n",
        "import matplotlib.pyplot as plt"
      ],
      "execution_count": 1,
      "outputs": []
    },
    {
      "cell_type": "code",
      "metadata": {
        "id": "gWo1JDvgLd_N",
        "colab_type": "code",
        "colab": {}
      },
      "source": [
        "import torch\n",
        "import torch.nn as nn\n",
        "\n",
        "dtype = torch.float\n",
        "#device = torch.device(\"cpu\")\n",
        "device = torch.device(\"cuda:0\")"
      ],
      "execution_count": 2,
      "outputs": []
    },
    {
      "cell_type": "markdown",
      "metadata": {
        "id": "vt9T2AZzWLaK",
        "colab_type": "text"
      },
      "source": [
        "Mount drive and get our game CSV:"
      ]
    },
    {
      "cell_type": "code",
      "metadata": {
        "id": "UUOl38ynVzB-",
        "colab_type": "code",
        "colab": {
          "base_uri": "https://localhost:8080/",
          "height": 34
        },
        "outputId": "829b02fd-d707-46c3-c257-4ed079e3d880"
      },
      "source": [
        "drive.mount('/content/drive')"
      ],
      "execution_count": 3,
      "outputs": [
        {
          "output_type": "stream",
          "text": [
            "Drive already mounted at /content/drive; to attempt to forcibly remount, call drive.mount(\"/content/drive\", force_remount=True).\n"
          ],
          "name": "stdout"
        }
      ]
    },
    {
      "cell_type": "code",
      "metadata": {
        "id": "YAC_Xwv9VXTB",
        "colab_type": "code",
        "colab": {
          "base_uri": "https://localhost:8080/",
          "height": 507
        },
        "outputId": "2af7f842-ae76-479e-f341-b4eca070b8dc"
      },
      "source": [
        "team_history=pd.read_csv('/content/drive/My Drive/Colab Notebooks/CFB_pytorch_toy_minimizer/team_history_prior.csv')\n",
        "team_history"
      ],
      "execution_count": 4,
      "outputs": [
        {
          "output_type": "execute_result",
          "data": {
            "text/html": [
              "<div>\n",
              "<style scoped>\n",
              "    .dataframe tbody tr th:only-of-type {\n",
              "        vertical-align: middle;\n",
              "    }\n",
              "\n",
              "    .dataframe tbody tr th {\n",
              "        vertical-align: top;\n",
              "    }\n",
              "\n",
              "    .dataframe thead th {\n",
              "        text-align: right;\n",
              "    }\n",
              "</style>\n",
              "<table border=\"1\" class=\"dataframe\">\n",
              "  <thead>\n",
              "    <tr style=\"text-align: right;\">\n",
              "      <th></th>\n",
              "      <th>team</th>\n",
              "      <th>1995</th>\n",
              "      <th>1996</th>\n",
              "      <th>1997</th>\n",
              "      <th>1998</th>\n",
              "      <th>1999</th>\n",
              "      <th>2000</th>\n",
              "      <th>2001</th>\n",
              "      <th>2002</th>\n",
              "      <th>2003</th>\n",
              "      <th>2004</th>\n",
              "      <th>2005</th>\n",
              "      <th>2006</th>\n",
              "      <th>2007</th>\n",
              "      <th>2008</th>\n",
              "      <th>2009</th>\n",
              "      <th>2010</th>\n",
              "      <th>2011</th>\n",
              "      <th>2012</th>\n",
              "      <th>2013</th>\n",
              "      <th>2014</th>\n",
              "      <th>2015</th>\n",
              "      <th>2016</th>\n",
              "      <th>2017</th>\n",
              "      <th>2018</th>\n",
              "      <th>2019</th>\n",
              "    </tr>\n",
              "  </thead>\n",
              "  <tbody>\n",
              "    <tr>\n",
              "      <th>0</th>\n",
              "      <td>Virginia</td>\n",
              "      <td>56.218224</td>\n",
              "      <td>57.634155</td>\n",
              "      <td>51.259979</td>\n",
              "      <td>55.099541</td>\n",
              "      <td>46.208427</td>\n",
              "      <td>42.816223</td>\n",
              "      <td>39.692951</td>\n",
              "      <td>48.873753</td>\n",
              "      <td>52.484528</td>\n",
              "      <td>56.816620</td>\n",
              "      <td>47.511570</td>\n",
              "      <td>38.943901</td>\n",
              "      <td>43.154022</td>\n",
              "      <td>38.749882</td>\n",
              "      <td>36.430931</td>\n",
              "      <td>32.440731</td>\n",
              "      <td>33.786793</td>\n",
              "      <td>29.997833</td>\n",
              "      <td>25.191860</td>\n",
              "      <td>37.367573</td>\n",
              "      <td>34.448063</td>\n",
              "      <td>27.364101</td>\n",
              "      <td>30.464144</td>\n",
              "      <td>39.577229</td>\n",
              "      <td>40.470589</td>\n",
              "    </tr>\n",
              "    <tr>\n",
              "      <th>1</th>\n",
              "      <td>Rocky Mtn</td>\n",
              "      <td>-38.717487</td>\n",
              "      <td>-17.620222</td>\n",
              "      <td>-20.533848</td>\n",
              "      <td>-7.097942</td>\n",
              "      <td>-2.887386</td>\n",
              "      <td>-17.078531</td>\n",
              "      <td>-26.195095</td>\n",
              "      <td>-27.137554</td>\n",
              "      <td>-30.853399</td>\n",
              "      <td>-37.668503</td>\n",
              "      <td>-33.101185</td>\n",
              "      <td>-32.563507</td>\n",
              "      <td>-27.494164</td>\n",
              "      <td>-25.504488</td>\n",
              "      <td>-21.313812</td>\n",
              "      <td>-15.438066</td>\n",
              "      <td>-16.550310</td>\n",
              "      <td>-17.288315</td>\n",
              "      <td>-8.895834</td>\n",
              "      <td>-14.910691</td>\n",
              "      <td>-21.089167</td>\n",
              "      <td>-23.562651</td>\n",
              "      <td>-14.480546</td>\n",
              "      <td>-6.131647</td>\n",
              "      <td>-26.008608</td>\n",
              "    </tr>\n",
              "    <tr>\n",
              "      <th>2</th>\n",
              "      <td>Boston College</td>\n",
              "      <td>42.258953</td>\n",
              "      <td>38.119411</td>\n",
              "      <td>35.124268</td>\n",
              "      <td>40.063679</td>\n",
              "      <td>40.715084</td>\n",
              "      <td>48.417175</td>\n",
              "      <td>52.860954</td>\n",
              "      <td>52.147476</td>\n",
              "      <td>47.962749</td>\n",
              "      <td>46.445374</td>\n",
              "      <td>52.639900</td>\n",
              "      <td>50.498695</td>\n",
              "      <td>48.185688</td>\n",
              "      <td>44.614372</td>\n",
              "      <td>43.804432</td>\n",
              "      <td>38.277180</td>\n",
              "      <td>33.154850</td>\n",
              "      <td>28.399715</td>\n",
              "      <td>33.874149</td>\n",
              "      <td>39.260445</td>\n",
              "      <td>35.656300</td>\n",
              "      <td>29.483124</td>\n",
              "      <td>41.085209</td>\n",
              "      <td>41.608356</td>\n",
              "      <td>33.609016</td>\n",
              "    </tr>\n",
              "    <tr>\n",
              "      <th>3</th>\n",
              "      <td>Appalachian St</td>\n",
              "      <td>26.782879</td>\n",
              "      <td>22.299517</td>\n",
              "      <td>23.727081</td>\n",
              "      <td>25.376507</td>\n",
              "      <td>29.533756</td>\n",
              "      <td>31.279825</td>\n",
              "      <td>27.969292</td>\n",
              "      <td>23.109306</td>\n",
              "      <td>17.383862</td>\n",
              "      <td>17.784161</td>\n",
              "      <td>29.634516</td>\n",
              "      <td>34.037361</td>\n",
              "      <td>33.526340</td>\n",
              "      <td>31.878578</td>\n",
              "      <td>28.291296</td>\n",
              "      <td>26.643030</td>\n",
              "      <td>18.825008</td>\n",
              "      <td>20.310329</td>\n",
              "      <td>11.766082</td>\n",
              "      <td>22.481869</td>\n",
              "      <td>34.867653</td>\n",
              "      <td>36.000874</td>\n",
              "      <td>34.195354</td>\n",
              "      <td>41.789104</td>\n",
              "      <td>42.950077</td>\n",
              "    </tr>\n",
              "    <tr>\n",
              "      <th>4</th>\n",
              "      <td>Ball St</td>\n",
              "      <td>34.088524</td>\n",
              "      <td>38.733631</td>\n",
              "      <td>32.332634</td>\n",
              "      <td>19.765236</td>\n",
              "      <td>16.668686</td>\n",
              "      <td>21.699640</td>\n",
              "      <td>27.220036</td>\n",
              "      <td>27.781195</td>\n",
              "      <td>25.603275</td>\n",
              "      <td>18.912823</td>\n",
              "      <td>21.527466</td>\n",
              "      <td>31.982611</td>\n",
              "      <td>34.510197</td>\n",
              "      <td>39.986687</td>\n",
              "      <td>23.048784</td>\n",
              "      <td>17.427259</td>\n",
              "      <td>22.132940</td>\n",
              "      <td>29.923170</td>\n",
              "      <td>34.295639</td>\n",
              "      <td>23.990997</td>\n",
              "      <td>15.940012</td>\n",
              "      <td>19.355339</td>\n",
              "      <td>3.871175</td>\n",
              "      <td>15.872072</td>\n",
              "      <td>26.599550</td>\n",
              "    </tr>\n",
              "    <tr>\n",
              "      <th>...</th>\n",
              "      <td>...</td>\n",
              "      <td>...</td>\n",
              "      <td>...</td>\n",
              "      <td>...</td>\n",
              "      <td>...</td>\n",
              "      <td>...</td>\n",
              "      <td>...</td>\n",
              "      <td>...</td>\n",
              "      <td>...</td>\n",
              "      <td>...</td>\n",
              "      <td>...</td>\n",
              "      <td>...</td>\n",
              "      <td>...</td>\n",
              "      <td>...</td>\n",
              "      <td>...</td>\n",
              "      <td>...</td>\n",
              "      <td>...</td>\n",
              "      <td>...</td>\n",
              "      <td>...</td>\n",
              "      <td>...</td>\n",
              "      <td>...</td>\n",
              "      <td>...</td>\n",
              "      <td>...</td>\n",
              "      <td>...</td>\n",
              "      <td>...</td>\n",
              "      <td>...</td>\n",
              "    </tr>\n",
              "    <tr>\n",
              "      <th>1053</th>\n",
              "      <td>Washington &amp; Lee</td>\n",
              "      <td>NaN</td>\n",
              "      <td>NaN</td>\n",
              "      <td>NaN</td>\n",
              "      <td>NaN</td>\n",
              "      <td>NaN</td>\n",
              "      <td>NaN</td>\n",
              "      <td>NaN</td>\n",
              "      <td>NaN</td>\n",
              "      <td>NaN</td>\n",
              "      <td>NaN</td>\n",
              "      <td>NaN</td>\n",
              "      <td>NaN</td>\n",
              "      <td>NaN</td>\n",
              "      <td>NaN</td>\n",
              "      <td>NaN</td>\n",
              "      <td>NaN</td>\n",
              "      <td>NaN</td>\n",
              "      <td>NaN</td>\n",
              "      <td>NaN</td>\n",
              "      <td>NaN</td>\n",
              "      <td>NaN</td>\n",
              "      <td>NaN</td>\n",
              "      <td>NaN</td>\n",
              "      <td>NaN</td>\n",
              "      <td>-25.239401</td>\n",
              "    </tr>\n",
              "    <tr>\n",
              "      <th>1054</th>\n",
              "      <td>CO Mesa</td>\n",
              "      <td>NaN</td>\n",
              "      <td>NaN</td>\n",
              "      <td>NaN</td>\n",
              "      <td>NaN</td>\n",
              "      <td>NaN</td>\n",
              "      <td>NaN</td>\n",
              "      <td>NaN</td>\n",
              "      <td>NaN</td>\n",
              "      <td>NaN</td>\n",
              "      <td>NaN</td>\n",
              "      <td>NaN</td>\n",
              "      <td>NaN</td>\n",
              "      <td>NaN</td>\n",
              "      <td>NaN</td>\n",
              "      <td>NaN</td>\n",
              "      <td>NaN</td>\n",
              "      <td>NaN</td>\n",
              "      <td>NaN</td>\n",
              "      <td>NaN</td>\n",
              "      <td>NaN</td>\n",
              "      <td>NaN</td>\n",
              "      <td>NaN</td>\n",
              "      <td>NaN</td>\n",
              "      <td>NaN</td>\n",
              "      <td>-4.568953</td>\n",
              "    </tr>\n",
              "    <tr>\n",
              "      <th>1055</th>\n",
              "      <td>Lenoir-Rhyne</td>\n",
              "      <td>NaN</td>\n",
              "      <td>NaN</td>\n",
              "      <td>NaN</td>\n",
              "      <td>NaN</td>\n",
              "      <td>NaN</td>\n",
              "      <td>NaN</td>\n",
              "      <td>NaN</td>\n",
              "      <td>NaN</td>\n",
              "      <td>NaN</td>\n",
              "      <td>NaN</td>\n",
              "      <td>NaN</td>\n",
              "      <td>NaN</td>\n",
              "      <td>NaN</td>\n",
              "      <td>NaN</td>\n",
              "      <td>NaN</td>\n",
              "      <td>NaN</td>\n",
              "      <td>NaN</td>\n",
              "      <td>NaN</td>\n",
              "      <td>NaN</td>\n",
              "      <td>NaN</td>\n",
              "      <td>NaN</td>\n",
              "      <td>NaN</td>\n",
              "      <td>NaN</td>\n",
              "      <td>NaN</td>\n",
              "      <td>11.369897</td>\n",
              "    </tr>\n",
              "    <tr>\n",
              "      <th>1056</th>\n",
              "      <td>Marquette</td>\n",
              "      <td>-88.305916</td>\n",
              "      <td>NaN</td>\n",
              "      <td>NaN</td>\n",
              "      <td>NaN</td>\n",
              "      <td>NaN</td>\n",
              "      <td>NaN</td>\n",
              "      <td>NaN</td>\n",
              "      <td>NaN</td>\n",
              "      <td>NaN</td>\n",
              "      <td>NaN</td>\n",
              "      <td>NaN</td>\n",
              "      <td>NaN</td>\n",
              "      <td>NaN</td>\n",
              "      <td>NaN</td>\n",
              "      <td>NaN</td>\n",
              "      <td>NaN</td>\n",
              "      <td>NaN</td>\n",
              "      <td>NaN</td>\n",
              "      <td>NaN</td>\n",
              "      <td>NaN</td>\n",
              "      <td>NaN</td>\n",
              "      <td>NaN</td>\n",
              "      <td>NaN</td>\n",
              "      <td>NaN</td>\n",
              "      <td>NaN</td>\n",
              "    </tr>\n",
              "    <tr>\n",
              "      <th>1057</th>\n",
              "      <td>home_field</td>\n",
              "      <td>NaN</td>\n",
              "      <td>NaN</td>\n",
              "      <td>NaN</td>\n",
              "      <td>NaN</td>\n",
              "      <td>NaN</td>\n",
              "      <td>NaN</td>\n",
              "      <td>NaN</td>\n",
              "      <td>NaN</td>\n",
              "      <td>NaN</td>\n",
              "      <td>NaN</td>\n",
              "      <td>NaN</td>\n",
              "      <td>NaN</td>\n",
              "      <td>NaN</td>\n",
              "      <td>NaN</td>\n",
              "      <td>NaN</td>\n",
              "      <td>NaN</td>\n",
              "      <td>NaN</td>\n",
              "      <td>NaN</td>\n",
              "      <td>NaN</td>\n",
              "      <td>NaN</td>\n",
              "      <td>NaN</td>\n",
              "      <td>NaN</td>\n",
              "      <td>NaN</td>\n",
              "      <td>NaN</td>\n",
              "      <td>NaN</td>\n",
              "    </tr>\n",
              "  </tbody>\n",
              "</table>\n",
              "<p>1058 rows × 26 columns</p>\n",
              "</div>"
            ],
            "text/plain": [
              "                  team       1995       1996  ...       2017       2018       2019\n",
              "0             Virginia  56.218224  57.634155  ...  30.464144  39.577229  40.470589\n",
              "1            Rocky Mtn -38.717487 -17.620222  ... -14.480546  -6.131647 -26.008608\n",
              "2       Boston College  42.258953  38.119411  ...  41.085209  41.608356  33.609016\n",
              "3       Appalachian St  26.782879  22.299517  ...  34.195354  41.789104  42.950077\n",
              "4              Ball St  34.088524  38.733631  ...   3.871175  15.872072  26.599550\n",
              "...                ...        ...        ...  ...        ...        ...        ...\n",
              "1053  Washington & Lee        NaN        NaN  ...        NaN        NaN -25.239401\n",
              "1054           CO Mesa        NaN        NaN  ...        NaN        NaN  -4.568953\n",
              "1055      Lenoir-Rhyne        NaN        NaN  ...        NaN        NaN  11.369897\n",
              "1056         Marquette -88.305916        NaN  ...        NaN        NaN        NaN\n",
              "1057        home_field        NaN        NaN  ...        NaN        NaN        NaN\n",
              "\n",
              "[1058 rows x 26 columns]"
            ]
          },
          "metadata": {
            "tags": []
          },
          "execution_count": 4
        }
      ]
    },
    {
      "cell_type": "markdown",
      "metadata": {
        "id": "IctBvnneB5gH",
        "colab_type": "text"
      },
      "source": [
        "Create list of FBS teams:"
      ]
    },
    {
      "cell_type": "code",
      "metadata": {
        "id": "pMA_bIcJ93pZ",
        "colab_type": "code",
        "colab": {}
      },
      "source": [
        "fbs_teams = [\"Clemson\",\"Alabama\",\"Texas\",\"Air Force\",\"Akron\",\"Appalachian St\",\"Arizona\",\"Arizona St\",\"Arkansas\",\"Arkansas St\",\"Army\",\"Auburn\",\"BYU\",\"Ball St\",\"Baylor\",\"Boise St\",\"Boston College\",\"Bowling Green\",\"Buffalo\",\"C Michigan\",\"California\",\"Charlotte\",\"Cincinnati\",\"Coastal Car\",\"Colorado\",\"Colorado St\",\"Connecticut\",\"Duke\",\"E Michigan\",\"East Carolina\",\"FL Atlantic\",\"Florida\",\"Florida Intl\",\"Florida St\",\"Fresno St\",\"Ga Southern\",\"Georgia\",\"Georgia St\",\"Georgia Tech\",\"Hawaii\",\"Houston\",\"Illinois\",\"Indiana\",\"Iowa\",\"Iowa St\",\"Kansas\",\"Kansas St\",\"Kent\",\"Kentucky\",\"LSU\",\"Liberty\",\"Louisiana\",\"Louisiana Tech\",\"Louisville\",\"MTSU\",\"Marshall\",\"Maryland\",\"Massachusetts\",\"Memphis\",\"Miami FL\",\"Miami OH\",\"Michigan\",\"Michigan St\",\"Minnesota\",\"Mississippi\",\"Mississippi St\",\"Missouri\",\"N Illinois\",\"NC State\",\"Navy\",\"Nebraska\",\"Nevada\",\"New Mexico\",\"New Mexico St\",\"North Carolina\",\"North Texas\",\"Northwestern\",\"Notre Dame\",\"Ohio\",\"Ohio St\",\"Oklahoma\",\"Oklahoma St\",\"Old Dominion\",\"Oregon\",\"Oregon St\",\"Penn St\",\"Pittsburgh\",\"Purdue\",\"Rice\",\"Rutgers\",\"SMU\",\"San Diego St\",\"San Jose St\",\"South Alabama\",\"South Carolina\",\"South Florida\",\"Southern Miss\",\"Stanford\",\"Syracuse\",\"TCU\",\"Temple\",\"Tennessee\",\"Texas A&M\",\"Texas St\",\"Texas Tech\",\"Toledo\",\"Troy\",\"Tulane\",\"Tulsa\",\"UAB\",\"UCF\",\"UCLA\",\"ULL\",\"ULM\",\"UNLV\",\"USC\",\"UT San Antonio\",\"UTEP\",\"Utah\",\"Utah St\",\"Vanderbilt\",\"Virginia\",\"Virginia Tech\",\"W Michigan\",\"WKU\",\"Wake Forest\",\"Washington\",\"Washington St\",\"West Virginia\",\"Wisconsin\",\"Wyoming\"]"
      ],
      "execution_count": 5,
      "outputs": []
    },
    {
      "cell_type": "code",
      "metadata": {
        "id": "x4dmuRQbCCpI",
        "colab_type": "code",
        "colab": {}
      },
      "source": [
        "fbs_history = team_history[team_history.team.isin(fbs_teams)]"
      ],
      "execution_count": 6,
      "outputs": []
    },
    {
      "cell_type": "code",
      "metadata": {
        "id": "lnbspEQYDn5m",
        "colab_type": "code",
        "colab": {
          "base_uri": "https://localhost:8080/",
          "height": 969
        },
        "outputId": "74c9cdb8-1524-4d1a-a9ad-9fe2d964bfcd"
      },
      "source": [
        "seasons=np.linspace(1995,2019,2019-1995+1,dtype=int)\n",
        "#seasons=np.linspace(2017,2019,2019-2017+1,dtype=int)\n",
        "for index, season in enumerate(seasons):\n",
        "  print(season)\n",
        "  print(fbs_history[str(season)].mean(),fbs_history[str(season)].std())\n",
        "  mean = fbs_history[str(season)].mean()\n",
        "  fbs_history[str(season)]=fbs_history[str(season)].subtract(mean)"
      ],
      "execution_count": 7,
      "outputs": [
        {
          "output_type": "stream",
          "text": [
            "1995\n",
            "40.646333094470755 16.05873864342354\n",
            "1996\n",
            "40.41969909352704 16.20315541049332\n",
            "1997\n",
            "40.27454289549687 15.758266252418785\n",
            "1998\n",
            "40.553894039060246 14.817712617589123\n",
            "1999\n",
            "40.90892592805331 14.027089677862458\n",
            "2000\n",
            "40.84242019081702 14.382950205428342\n",
            "2001\n",
            "40.21726690899066 15.02778997547015\n",
            "2002\n",
            "39.50342676428057 15.128520983731487\n",
            "2003\n",
            "38.72711653518677 15.44223391132927\n",
            "2004\n",
            "38.597301789283755 14.365447544614575\n",
            "2005\n",
            "38.50677729415894 14.20925296209438\n",
            "2006\n",
            "37.93998241996765 13.19442477184693\n",
            "2007\n",
            "37.299192615509035 12.9116617942253\n",
            "2008\n",
            "37.026499019622804 13.17513907509963\n",
            "2009\n",
            "36.1821540783322 13.4620039728132\n",
            "2010\n",
            "35.00836911611259 14.445520726409152\n",
            "2011\n",
            "34.37211744729863 14.507731766464465\n",
            "2012\n",
            "34.213601648345474 13.637375818918725\n",
            "2013\n",
            "33.662725437604465 14.898954560075717\n",
            "2014\n",
            "33.64853567893689 13.80926845782442\n",
            "2015\n",
            "33.71088577056116 13.80446044006021\n",
            "2016\n",
            "33.4940756568613 13.424029082692797\n",
            "2017\n",
            "33.06594475049239 13.840327040065835\n",
            "2018\n",
            "33.600481572517985 13.253173208560485\n",
            "2019\n",
            "33.79043829177434 14.077782101751493\n"
          ],
          "name": "stdout"
        },
        {
          "output_type": "stream",
          "text": [
            "/usr/local/lib/python3.6/dist-packages/ipykernel_launcher.py:7: SettingWithCopyWarning: \n",
            "A value is trying to be set on a copy of a slice from a DataFrame.\n",
            "Try using .loc[row_indexer,col_indexer] = value instead\n",
            "\n",
            "See the caveats in the documentation: https://pandas.pydata.org/pandas-docs/stable/user_guide/indexing.html#returning-a-view-versus-a-copy\n",
            "  import sys\n"
          ],
          "name": "stderr"
        }
      ]
    },
    {
      "cell_type": "code",
      "metadata": {
        "id": "OzkFe-MsF-DN",
        "colab_type": "code",
        "colab": {
          "base_uri": "https://localhost:8080/"
        },
        "outputId": "a5a908b2-b586-4d43-a898-b3eb01c8ac79"
      },
      "source": [
        "teamlist=[\"Texas A&M\", \"Texas\", \"Clemson\", \"Alabama\", \"Ohio St\"]\n",
        "teamlist=[\"LSU\",\"Georgia\", \"Alabama\",\"Clemson\", \"Ohio St\", \"Oklahoma\"]\n",
        "teamlist=[\"Texas A&M\", \"Texas\", \"Clemson\",\"Oklahoma\"]\n",
        "teamlist=[\"Texas A&M\", \"Minnesota\", \"Wisconsin\"]\n",
        "levels = [13*3-13*n for n in np.arange(7)]\n",
        "x=[seasons[0],seasons[-1]]\n",
        "for team in teamlist:\n",
        "  plt.plot(seasons,fbs_history[fbs_history['team']==team].to_numpy()[0][1:],'o-',label=team)\n",
        "for level in levels:\n",
        "  y=[level,level]\n",
        "  if level > -13:\n",
        "    plt.plot(x,y,'--',color='k',alpha=0.3)\n",
        "plt.legend()"
      ],
      "execution_count": 8,
      "outputs": [
        {
          "output_type": "execute_result",
          "data": {
            "text/plain": [
              "<matplotlib.legend.Legend at 0x7fb3725902e8>"
            ]
          },
          "metadata": {
            "tags": []
          },
          "execution_count": 8
        },
        {
          "output_type": "display_data",
          "data": {
            "image/png": "[encoded data removed]",
            "text/plain": [
              "<Figure size 432x288 with 1 Axes>"
            ]
          },
          "metadata": {
            "tags": [],
            "needs_background": "light"
          }
        }
      ]
    },
    {
      "cell_type": "code",
      "metadata": {
        "id": "oqsrjxJn8mi1",
        "colab_type": "code",
        "colab": {
          "base_uri": "https://localhost:8080/",
          "height": 34
        },
        "outputId": "ac5d56a0-e27a-4f7d-d38a-2850e81b2b08"
      },
      "source": [
        "from sklearn.preprocessing import MinMaxScaler\n",
        "scaler = MinMaxScaler(feature_range=(-1, 1))\n",
        "test_data_size = 2\n",
        "for team in fbs_history.team:\n",
        "   ratings = fbs_history[fbs_history['team']==team].to_numpy()[0][1:]\n",
        "   if not np.isnan(np.sum(ratings)):\n",
        "    scaler.partial_fit(np.array(ratings[:-test_data_size]).reshape(-1,1))\n",
        "scaler.get_params()"
      ],
      "execution_count": 9,
      "outputs": [
        {
          "output_type": "execute_result",
          "data": {
            "text/plain": [
              "{'copy': True, 'feature_range': (-1, 1)}"
            ]
          },
          "metadata": {
            "tags": []
          },
          "execution_count": 9
        }
      ]
    },
    {
      "cell_type": "code",
      "metadata": {
        "id": "fmOcUavdHEAH",
        "colab_type": "code",
        "colab": {}
      },
      "source": [
        "team_dict = {}\n",
        "for team in fbs_history.team:\n",
        "  ratings = fbs_history[fbs_history['team']==team].to_numpy()[0][1:]\n",
        "  if not math.isnan(ratings.mean()):\n",
        "    team_dict[team]={}\n",
        "    train_array=np.array(ratings[:-test_data_size]).reshape(-1,1)\n",
        "    train_array=scaler.transform(train_array).reshape(-1, 1)\n",
        "    team_dict[team]['train']=train_array\n",
        "    team_dict[team]['test']=ratings[-test_data_size:]"
      ],
      "execution_count": 10,
      "outputs": []
    },
    {
      "cell_type": "code",
      "metadata": {
        "id": "W7qtORfsDZz_",
        "colab_type": "code",
        "colab": {}
      },
      "source": [
        "for team in team_dict:\n",
        "  team_dict[team]['train'] = torch.FloatTensor(team_dict[team]['train']).to(device).view(-1)"
      ],
      "execution_count": 11,
      "outputs": []
    },
    {
      "cell_type": "markdown",
      "metadata": {
        "id": "7iXWj_xGFCso",
        "colab_type": "text"
      },
      "source": [
        "Ok, so now we have a dict of series, lets try and predict make an lstm"
      ]
    },
    {
      "cell_type": "code",
      "metadata": {
        "id": "diLN3wEm93Bu",
        "colab_type": "code",
        "colab": {
          "base_uri": "https://localhost:8080/",
          "height": 34
        },
        "outputId": "9b81c967-9a30-459a-e80b-7a37597e24c7"
      },
      "source": [
        "class LSTM(nn.Module):\n",
        "  def __init__(self, input_size=1, hidden_layer_size=10, output_size=1):\n",
        "    super().__init__()\n",
        "    self.hidden_layer_size=hidden_layer_size\n",
        "\n",
        "    self.lstm=nn.LSTM(input_size,hidden_layer_size)\n",
        "\n",
        "    self.linear=nn.Linear(hidden_layer_size,output_size)\n",
        "\n",
        "    self.hidden_cell=(torch.zeros(1,1,self.hidden_layer_size),\n",
        "                      torch.zeros(1,1,hidden_layer_size))\n",
        "  def forward(self, input_seq):\n",
        "    lstm_out, self.hidden_cell = self.lstm(input_seq.view(len(input_seq),1,-1),\n",
        "                                           self.hidden_cell)\n",
        "    predictions = self.linear(lstm_out.view(len(input_seq),-1))\n",
        "    return predictions[-1]\n",
        "\n",
        "torch.manual_seed(1)"
      ],
      "execution_count": 12,
      "outputs": [
        {
          "output_type": "execute_result",
          "data": {
            "text/plain": [
              "<torch._C.Generator at 0x7fb3bca6aa10>"
            ]
          },
          "metadata": {
            "tags": []
          },
          "execution_count": 12
        }
      ]
    },
    {
      "cell_type": "code",
      "metadata": {
        "id": "3vHT1p-DENEH",
        "colab_type": "code",
        "colab": {}
      },
      "source": [
        "def create_inout_sequences(input_data, tw):\n",
        "    inout_seq = []\n",
        "    L = len(input_data)\n",
        "    for i in range(L-tw):\n",
        "        train_seq = input_data[i:i+tw]\n",
        "        train_label = input_data[i+tw:i+tw+1]\n",
        "        inout_seq.append((train_seq ,train_label))\n",
        "    return inout_seq"
      ],
      "execution_count": 13,
      "outputs": []
    },
    {
      "cell_type": "code",
      "metadata": {
        "id": "4MqbLm4kEV-d",
        "colab_type": "code",
        "colab": {}
      },
      "source": [
        "train_window = 10"
      ],
      "execution_count": 14,
      "outputs": []
    },
    {
      "cell_type": "code",
      "metadata": {
        "id": "Ldyeq1uYEYd-",
        "colab_type": "code",
        "colab": {}
      },
      "source": [
        "for team in team_dict:\n",
        "  seq=team_dict[team]['train']\n",
        "  train_inout_seq = create_inout_sequences(seq, train_window)  \n",
        "  team_dict[team]['train']=train_inout_seq"
      ],
      "execution_count": 15,
      "outputs": []
    },
    {
      "cell_type": "code",
      "metadata": {
        "id": "I8xNNq3XEiuR",
        "colab_type": "code",
        "colab": {
          "base_uri": "https://localhost:8080/"
        },
        "outputId": "e9f9e22f-91fc-4249-980e-7a1b08d6912b"
      },
      "source": [
        "model=LSTM().to(device)\n",
        "loss_function=nn.MSELoss()\n",
        "optimizer=torch.optim.Adam(model.parameters(), lr=1e-4)\n",
        "print(model)"
      ],
      "execution_count": 16,
      "outputs": [
        {
          "output_type": "stream",
          "text": [
            "LSTM(\n",
            "  (lstm): LSTM(1, 10)\n",
            "  (linear): Linear(in_features=10, out_features=1, bias=True)\n",
            ")\n"
          ],
          "name": "stdout"
        }
      ]
    },
    {
      "cell_type": "code",
      "metadata": {
        "id": "qWc49je8uyz-",
        "colab_type": "code",
        "colab": {
          "base_uri": "https://localhost:8080/"
        },
        "outputId": "b56d2cea-e9c4-4b8d-f8b6-0638a8d4e7d6"
      },
      "source": [
        "inputs = [torch.randn(1, 3) for _ in range(5)]  # make a sequence of length 5\n",
        "torch.cat(inputs).view(len(inputs), 1, -1)"
      ],
      "execution_count": 17,
      "outputs": [
        {
          "output_type": "execute_result",
          "data": {
            "text/plain": [
              "tensor([[[ 0.5496,  0.3409,  2.1349]],\n",
              "\n",
              "        [[-1.4792, -1.8716,  0.6139]],\n",
              "\n",
              "        [[-1.2945, -1.5406, -0.1921]],\n",
              "\n",
              "        [[-0.9269,  0.1399,  2.4266]],\n",
              "\n",
              "        [[-0.8143,  0.1058, -1.3097]]])"
            ]
          },
          "metadata": {
            "tags": []
          },
          "execution_count": 17
        }
      ]
    },
    {
      "cell_type": "code",
      "metadata": {
        "id": "ho0l9haJE0Ki",
        "colab_type": "code",
        "colab": {
          "base_uri": "https://localhost:8080/",
          "height": 817
        },
        "outputId": "886cedc5-5ba0-4582-c779-75bcd337bbb8"
      },
      "source": [
        "epochs=1\n",
        "optimizer=torch.optim.Adam(model.parameters(), lr=1e-4)\n",
        "for i in range(epochs):\n",
        "  loss = []\n",
        "  for team in team_dict:\n",
        "    train_inout_seq = np.array(team_dict[team]['train'])\n",
        "    y=torch.stack(tuple(train_inout_seq.T[1]))\n",
        "    x=torch.stack(tuple(train_inout_seq.T[0]))\n",
        "    x=x.view(len(x), 1, -1)\n",
        "    model.hidden_cell=(torch.zeros(1,1,model.hidden_layer_size).to(device),\n",
        "                       torch.zeros(1,1,model.hidden_layer_size).to(device))\n",
        "\n",
        "    x=torch.nn.utils.rnn.pack_padded_sequence(x, batch_first=True, lengths=[10 for _ in range(len(x))])\n",
        "    print(x)\n",
        "    x, model.hidden_cell, = model.lstm(x,model.hidden_cell)\n",
        "    print(y_pred)\n",
        "    break\n",
        "    for seq, labels in train_inout_seq:\n",
        "      optimizer.zero_grad()\n",
        "      model.hidden_cell=(torch.zeros(1,1,model.hidden_layer_size).to(device),\n",
        "                       torch.zeros(1,1,model.hidden_layer_size).to(device))\n",
        "      y_pred = model(seq)\n",
        "      single_loss=loss_function(y_pred,labels)\n",
        "      single_loss.backward()\n",
        "      loss.append(single_loss.item())\n",
        "      optimizer.step()\n",
        "  if i%10==1:\n",
        "    print(f'epoch: {i:3} loss: {np.average(loss):10.8f}')\n",
        "\n",
        "#print(f'epoch: {i:3} loss: {np.average(loss):10.10f}')"
      ],
      "execution_count": 19,
      "outputs": [
        {
          "output_type": "stream",
          "text": [
            "PackedSequence(data=tensor([[ 0.3867,  0.4210,  0.2909,  0.3653,  0.1721,  0.1026,  0.0504,  0.2571,\n",
            "          0.3488,  0.4420],\n",
            "        [ 0.4210,  0.2909,  0.3653,  0.1721,  0.1026,  0.0504,  0.2571,  0.3488,\n",
            "          0.4420,  0.2495],\n",
            "        [ 0.2909,  0.3653,  0.1721,  0.1026,  0.0504,  0.2571,  0.3488,  0.4420,\n",
            "          0.2495,  0.0824],\n",
            "        [ 0.3653,  0.1721,  0.1026,  0.0504,  0.2571,  0.3488,  0.4420,  0.2495,\n",
            "          0.0824,  0.1837],\n",
            "        [ 0.1721,  0.1026,  0.0504,  0.2571,  0.3488,  0.4420,  0.2495,  0.0824,\n",
            "          0.1837,  0.0974],\n",
            "        [ 0.1026,  0.0504,  0.2571,  0.3488,  0.4420,  0.2495,  0.0824,  0.1837,\n",
            "          0.0974,  0.0666],\n",
            "        [ 0.0504,  0.2571,  0.3488,  0.4420,  0.2495,  0.0824,  0.1837,  0.0974,\n",
            "          0.0666,  0.0077],\n",
            "        [ 0.2571,  0.3488,  0.4420,  0.2495,  0.0824,  0.1837,  0.0974,  0.0666,\n",
            "          0.0077,  0.0491],\n",
            "        [ 0.3488,  0.4420,  0.2495,  0.0824,  0.1837,  0.0974,  0.0666,  0.0077,\n",
            "          0.0491, -0.0267],\n",
            "        [ 0.4420,  0.2495,  0.0824,  0.1837,  0.0974,  0.0666,  0.0077,  0.0491,\n",
            "         -0.0267, -0.1156],\n",
            "        [ 0.2495,  0.0824,  0.1837,  0.0974,  0.0666,  0.0077,  0.0491, -0.0267,\n",
            "         -0.1156,  0.1391],\n",
            "        [ 0.0824,  0.1837,  0.0974,  0.0666,  0.0077,  0.0491, -0.0267, -0.1156,\n",
            "          0.1391,  0.0768],\n",
            "        [ 0.1837,  0.0974,  0.0666,  0.0077,  0.0491, -0.0267, -0.1156,  0.1391,\n",
            "          0.0768, -0.0667]], device='cuda:0'), batch_sizes=tensor([13, 13, 13, 13, 13, 13, 13, 13, 13, 13]), sorted_indices=None, unsorted_indices=None)\n"
          ],
          "name": "stdout"
        },
        {
          "output_type": "error",
          "ename": "RuntimeError",
          "evalue": "ignored",
          "traceback": [
            "\u001b[0;31m---------------------------------------------------------------------------\u001b[0m",
            "\u001b[0;31mRuntimeError\u001b[0m                              Traceback (most recent call last)",
            "\u001b[0;32m<ipython-input-19-f2847d355f20>\u001b[0m in \u001b[0;36m<module>\u001b[0;34m()\u001b[0m\n\u001b[1;32m     13\u001b[0m     \u001b[0mx\u001b[0m\u001b[0;34m=\u001b[0m\u001b[0mtorch\u001b[0m\u001b[0;34m.\u001b[0m\u001b[0mnn\u001b[0m\u001b[0;34m.\u001b[0m\u001b[0mutils\u001b[0m\u001b[0;34m.\u001b[0m\u001b[0mrnn\u001b[0m\u001b[0;34m.\u001b[0m\u001b[0mpack_padded_sequence\u001b[0m\u001b[0;34m(\u001b[0m\u001b[0mx\u001b[0m\u001b[0;34m,\u001b[0m \u001b[0mbatch_first\u001b[0m\u001b[0;34m=\u001b[0m\u001b[0;32mTrue\u001b[0m\u001b[0;34m,\u001b[0m \u001b[0mlengths\u001b[0m\u001b[0;34m=\u001b[0m\u001b[0;34m[\u001b[0m\u001b[0;36m10\u001b[0m \u001b[0;32mfor\u001b[0m \u001b[0m_\u001b[0m \u001b[0;32min\u001b[0m \u001b[0mrange\u001b[0m\u001b[0;34m(\u001b[0m\u001b[0mlen\u001b[0m\u001b[0;34m(\u001b[0m\u001b[0mx\u001b[0m\u001b[0;34m)\u001b[0m\u001b[0;34m)\u001b[0m\u001b[0;34m]\u001b[0m\u001b[0;34m)\u001b[0m\u001b[0;34m\u001b[0m\u001b[0;34m\u001b[0m\u001b[0m\n\u001b[1;32m     14\u001b[0m     \u001b[0mprint\u001b[0m\u001b[0;34m(\u001b[0m\u001b[0mx\u001b[0m\u001b[0;34m)\u001b[0m\u001b[0;34m\u001b[0m\u001b[0;34m\u001b[0m\u001b[0m\n\u001b[0;32m---> 15\u001b[0;31m     \u001b[0mx\u001b[0m\u001b[0;34m,\u001b[0m \u001b[0mmodel\u001b[0m\u001b[0;34m.\u001b[0m\u001b[0mhidden_cell\u001b[0m\u001b[0;34m,\u001b[0m \u001b[0;34m=\u001b[0m \u001b[0mmodel\u001b[0m\u001b[0;34m.\u001b[0m\u001b[0mlstm\u001b[0m\u001b[0;34m(\u001b[0m\u001b[0mx\u001b[0m\u001b[0;34m,\u001b[0m\u001b[0mmodel\u001b[0m\u001b[0;34m.\u001b[0m\u001b[0mhidden_cell\u001b[0m\u001b[0;34m)\u001b[0m\u001b[0;34m\u001b[0m\u001b[0;34m\u001b[0m\u001b[0m\n\u001b[0m\u001b[1;32m     16\u001b[0m     \u001b[0mprint\u001b[0m\u001b[0;34m(\u001b[0m\u001b[0my_pred\u001b[0m\u001b[0;34m)\u001b[0m\u001b[0;34m\u001b[0m\u001b[0;34m\u001b[0m\u001b[0m\n\u001b[1;32m     17\u001b[0m     \u001b[0;32mbreak\u001b[0m\u001b[0;34m\u001b[0m\u001b[0;34m\u001b[0m\u001b[0m\n",
            "\u001b[0;32m/usr/local/lib/python3.6/dist-packages/torch/nn/modules/module.py\u001b[0m in \u001b[0;36m__call__\u001b[0;34m(self, *input, **kwargs)\u001b[0m\n\u001b[1;32m    548\u001b[0m             \u001b[0mresult\u001b[0m \u001b[0;34m=\u001b[0m \u001b[0mself\u001b[0m\u001b[0;34m.\u001b[0m\u001b[0m_slow_forward\u001b[0m\u001b[0;34m(\u001b[0m\u001b[0;34m*\u001b[0m\u001b[0minput\u001b[0m\u001b[0;34m,\u001b[0m \u001b[0;34m**\u001b[0m\u001b[0mkwargs\u001b[0m\u001b[0;34m)\u001b[0m\u001b[0;34m\u001b[0m\u001b[0;34m\u001b[0m\u001b[0m\n\u001b[1;32m    549\u001b[0m         \u001b[0;32melse\u001b[0m\u001b[0;34m:\u001b[0m\u001b[0;34m\u001b[0m\u001b[0;34m\u001b[0m\u001b[0m\n\u001b[0;32m--> 550\u001b[0;31m             \u001b[0mresult\u001b[0m \u001b[0;34m=\u001b[0m \u001b[0mself\u001b[0m\u001b[0;34m.\u001b[0m\u001b[0mforward\u001b[0m\u001b[0;34m(\u001b[0m\u001b[0;34m*\u001b[0m\u001b[0minput\u001b[0m\u001b[0;34m,\u001b[0m \u001b[0;34m**\u001b[0m\u001b[0mkwargs\u001b[0m\u001b[0;34m)\u001b[0m\u001b[0;34m\u001b[0m\u001b[0;34m\u001b[0m\u001b[0m\n\u001b[0m\u001b[1;32m    551\u001b[0m         \u001b[0;32mfor\u001b[0m \u001b[0mhook\u001b[0m \u001b[0;32min\u001b[0m \u001b[0mself\u001b[0m\u001b[0;34m.\u001b[0m\u001b[0m_forward_hooks\u001b[0m\u001b[0;34m.\u001b[0m\u001b[0mvalues\u001b[0m\u001b[0;34m(\u001b[0m\u001b[0;34m)\u001b[0m\u001b[0;34m:\u001b[0m\u001b[0;34m\u001b[0m\u001b[0;34m\u001b[0m\u001b[0m\n\u001b[1;32m    552\u001b[0m             \u001b[0mhook_result\u001b[0m \u001b[0;34m=\u001b[0m \u001b[0mhook\u001b[0m\u001b[0;34m(\u001b[0m\u001b[0mself\u001b[0m\u001b[0;34m,\u001b[0m \u001b[0minput\u001b[0m\u001b[0;34m,\u001b[0m \u001b[0mresult\u001b[0m\u001b[0;34m)\u001b[0m\u001b[0;34m\u001b[0m\u001b[0;34m\u001b[0m\u001b[0m\n",
            "\u001b[0;32m/usr/local/lib/python3.6/dist-packages/torch/nn/modules/rnn.py\u001b[0m in \u001b[0;36mforward\u001b[0;34m(self, input, hx)\u001b[0m\n\u001b[1;32m    565\u001b[0m             \u001b[0mhx\u001b[0m \u001b[0;34m=\u001b[0m \u001b[0mself\u001b[0m\u001b[0;34m.\u001b[0m\u001b[0mpermute_hidden\u001b[0m\u001b[0;34m(\u001b[0m\u001b[0mhx\u001b[0m\u001b[0;34m,\u001b[0m \u001b[0msorted_indices\u001b[0m\u001b[0;34m)\u001b[0m\u001b[0;34m\u001b[0m\u001b[0;34m\u001b[0m\u001b[0m\n\u001b[1;32m    566\u001b[0m \u001b[0;34m\u001b[0m\u001b[0m\n\u001b[0;32m--> 567\u001b[0;31m         \u001b[0mself\u001b[0m\u001b[0;34m.\u001b[0m\u001b[0mcheck_forward_args\u001b[0m\u001b[0;34m(\u001b[0m\u001b[0minput\u001b[0m\u001b[0;34m,\u001b[0m \u001b[0mhx\u001b[0m\u001b[0;34m,\u001b[0m \u001b[0mbatch_sizes\u001b[0m\u001b[0;34m)\u001b[0m\u001b[0;34m\u001b[0m\u001b[0;34m\u001b[0m\u001b[0m\n\u001b[0m\u001b[1;32m    568\u001b[0m         \u001b[0;32mif\u001b[0m \u001b[0mbatch_sizes\u001b[0m \u001b[0;32mis\u001b[0m \u001b[0;32mNone\u001b[0m\u001b[0;34m:\u001b[0m\u001b[0;34m\u001b[0m\u001b[0;34m\u001b[0m\u001b[0m\n\u001b[1;32m    569\u001b[0m             result = _VF.lstm(input, hx, self._flat_weights, self.bias, self.num_layers,\n",
            "\u001b[0;32m/usr/local/lib/python3.6/dist-packages/torch/nn/modules/rnn.py\u001b[0m in \u001b[0;36mcheck_forward_args\u001b[0;34m(self, input, hidden, batch_sizes)\u001b[0m\n\u001b[1;32m    517\u001b[0m     \u001b[0;32mdef\u001b[0m \u001b[0mcheck_forward_args\u001b[0m\u001b[0;34m(\u001b[0m\u001b[0mself\u001b[0m\u001b[0;34m,\u001b[0m \u001b[0minput\u001b[0m\u001b[0;34m,\u001b[0m \u001b[0mhidden\u001b[0m\u001b[0;34m,\u001b[0m \u001b[0mbatch_sizes\u001b[0m\u001b[0;34m)\u001b[0m\u001b[0;34m:\u001b[0m\u001b[0;34m\u001b[0m\u001b[0;34m\u001b[0m\u001b[0m\n\u001b[1;32m    518\u001b[0m         \u001b[0;31m# type: (Tensor, Tuple[Tensor, Tensor], Optional[Tensor]) -> None\u001b[0m\u001b[0;34m\u001b[0m\u001b[0;34m\u001b[0m\u001b[0;34m\u001b[0m\u001b[0m\n\u001b[0;32m--> 519\u001b[0;31m         \u001b[0mself\u001b[0m\u001b[0;34m.\u001b[0m\u001b[0mcheck_input\u001b[0m\u001b[0;34m(\u001b[0m\u001b[0minput\u001b[0m\u001b[0;34m,\u001b[0m \u001b[0mbatch_sizes\u001b[0m\u001b[0;34m)\u001b[0m\u001b[0;34m\u001b[0m\u001b[0;34m\u001b[0m\u001b[0m\n\u001b[0m\u001b[1;32m    520\u001b[0m         \u001b[0mexpected_hidden_size\u001b[0m \u001b[0;34m=\u001b[0m \u001b[0mself\u001b[0m\u001b[0;34m.\u001b[0m\u001b[0mget_expected_hidden_size\u001b[0m\u001b[0;34m(\u001b[0m\u001b[0minput\u001b[0m\u001b[0;34m,\u001b[0m \u001b[0mbatch_sizes\u001b[0m\u001b[0;34m)\u001b[0m\u001b[0;34m\u001b[0m\u001b[0;34m\u001b[0m\u001b[0m\n\u001b[1;32m    521\u001b[0m \u001b[0;34m\u001b[0m\u001b[0m\n",
            "\u001b[0;32m/usr/local/lib/python3.6/dist-packages/torch/nn/modules/rnn.py\u001b[0m in \u001b[0;36mcheck_input\u001b[0;34m(self, input, batch_sizes)\u001b[0m\n\u001b[1;32m    168\u001b[0m             raise RuntimeError(\n\u001b[1;32m    169\u001b[0m                 'input.size(-1) must be equal to input_size. Expected {}, got {}'.format(\n\u001b[0;32m--> 170\u001b[0;31m                     self.input_size, input.size(-1)))\n\u001b[0m\u001b[1;32m    171\u001b[0m \u001b[0;34m\u001b[0m\u001b[0m\n\u001b[1;32m    172\u001b[0m     \u001b[0;32mdef\u001b[0m \u001b[0mget_expected_hidden_size\u001b[0m\u001b[0;34m(\u001b[0m\u001b[0mself\u001b[0m\u001b[0;34m,\u001b[0m \u001b[0minput\u001b[0m\u001b[0;34m,\u001b[0m \u001b[0mbatch_sizes\u001b[0m\u001b[0;34m)\u001b[0m\u001b[0;34m:\u001b[0m\u001b[0;34m\u001b[0m\u001b[0;34m\u001b[0m\u001b[0m\n",
            "\u001b[0;31mRuntimeError\u001b[0m: input.size(-1) must be equal to input_size. Expected 1, got 10"
          ]
        }
      ]
    },
    {
      "cell_type": "code",
      "metadata": {
        "id": "gGur5pOdFMkj",
        "colab_type": "code",
        "colab": {}
      },
      "source": [
        "torch.save(model.state_dict(), '/content/drive/My Drive/Colab Notebooks/CFB_pytorch_toy_minimizer/lstm_first.torch')"
      ],
      "execution_count": null,
      "outputs": []
    },
    {
      "cell_type": "code",
      "metadata": {
        "id": "fzOpToLbNPtK",
        "colab_type": "code",
        "colab": {}
      },
      "source": [
        "fut_pred=2\n",
        "team_pred_dict={}\n",
        "for team in fbs_history.team:\n",
        "  ratings = fbs_history[fbs_history['team']==team].to_numpy()[0][1:]\n",
        "  if not math.isnan(ratings.mean()):\n",
        "    train_array=np.array(ratings[:-test_data_size]).reshape(-1,1)\n",
        "    train_array=scaler.transform(train_array).reshape(-1, 1).flatten()[-train_window:].tolist()\n",
        "    model.eval()\n",
        "    for i in range(fut_pred):\n",
        "      seq=torch.cuda.FloatTensor(train_array[-train_window:])\n",
        "      with torch.no_grad():\n",
        "        model.hidden=(torch.zeros(1,1, model.hidden_layer_size).to(device),\n",
        "                  torch.zeros(1,1,model.hidden_layer_size).to(device))\n",
        "        train_array.append(model(seq).item())\n",
        "    predictions = train_array[-fut_pred:]\n",
        "    reshaped_prediction=np.array(predictions).reshape(-1,1)\n",
        "    inverse_pred=scaler.inverse_transform(reshaped_prediction)\n",
        "    last_value=scaler.inverse_transform(np.array(train_array).reshape(-1,1))\n",
        "    team_pred_dict[team]={}\n",
        "    team_pred_dict[team]['lstm_pred'] = [pred[0] for pred in inverse_pred]\n",
        "    team_pred_dict[team]['actual'] = [pred for pred in team_dict[team]['test']]\n",
        "    team_pred_dict[team]['last'] =  [(last_value[-fut_pred-1][0]*.75+last_value[-fut_pred-2][0]*.25) for _ in range(fut_pred)]\n",
        "    team_pred_dict[team]['whole_hist'] = fbs_history[fbs_history['team']==team].to_numpy()[0][1:]\n",
        "    #print(fbs_history[fbs_history['team']==team].to_numpy()[0][1:])\n",
        "team_pred_dict\n",
        "\n"
      ],
      "execution_count": null,
      "outputs": []
    },
    {
      "cell_type": "code",
      "metadata": {
        "id": "uRnM2MevN2Fz",
        "colab_type": "code",
        "colab": {}
      },
      "source": [
        "lstm_list=[]\n",
        "last_list=[]\n",
        "for team in team_dict:\n",
        "  last = team_pred_dict[team]['last'][0]\n",
        "  lstm_pred = team_pred_dict[team]['lstm_pred'][0]\n",
        "  actual = team_pred_dict[team]['actual'][0]\n",
        "  lstm_list.append(lstm_pred-actual)\n",
        "  last_list.append(last-actual)\n",
        "print(\"lstm_list {np.std(lstm_list)}\")"
      ],
      "execution_count": null,
      "outputs": []
    },
    {
      "cell_type": "code",
      "metadata": {
        "id": "PXmRrs0NdkKl",
        "colab_type": "code",
        "colab": {}
      },
      "source": [
        "lstm_list=[]\n",
        "last_list=[]\n",
        "for team in team_dict:\n",
        "  print(team)\n",
        "  last = team_pred_dict[team]['last'][0]\n",
        "  lstm_pred = team_pred_dict[team]['lstm_pred'][0]\n",
        "  actual = team_pred_dict[team]['actual'][0]\n",
        "  lstm_list.append(lstm_pred-actual)\n",
        "  last_list.append(last-actual)\n",
        "print(\"lstm_list {} {}\".format(np.average(lstm_list),np.std(lstm_list)))\n",
        "print(\"last_list {} {}\".format(np.average(last_list),np.std(last_list)))"
      ],
      "execution_count": null,
      "outputs": []
    },
    {
      "cell_type": "code",
      "metadata": {
        "id": "iuTxWtcBdphx",
        "colab_type": "code",
        "colab": {}
      },
      "source": [
        "team_pred_dict_next={}\n",
        "for team in fbs_history.team:\n",
        "  ratings = fbs_history[fbs_history['team']==team].to_numpy()[0][1:]\n",
        "  if not math.isnan(ratings.mean()):\n",
        "    ratings = fbs_history[fbs_history['team']==team].to_numpy()[0][1:][-train_window:].reshape(-1,1)\n",
        "    scaled = scaler.transform(ratings)\n",
        "    seq=torch.cuda.FloatTensor(scaled)\n",
        "    with torch.no_grad():\n",
        "        model.hidden=(torch.zeros(1,1, model.hidden_layer_size).to(device),\n",
        "                  torch.zeros(1,1,model.hidden_layer_size).to(device))\n",
        "        train_array.append(model(seq).item())\n",
        "    predictions = train_array[-1:]\n",
        "    print(team, \"\\t\", scaler.inverse_transform(np.array(predictions).reshape(-1,1))[0][0], \"\\t\",ratings[-1][0])\n",
        "    "
      ],
      "execution_count": null,
      "outputs": []
    },
    {
      "cell_type": "code",
      "metadata": {
        "id": "SluT2Ua6iRA7",
        "colab_type": "code",
        "colab": {}
      },
      "source": [
        ""
      ],
      "execution_count": null,
      "outputs": []
    }
  ]
}