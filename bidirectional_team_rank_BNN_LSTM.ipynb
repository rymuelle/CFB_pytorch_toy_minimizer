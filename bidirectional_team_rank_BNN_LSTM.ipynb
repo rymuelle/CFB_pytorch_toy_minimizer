{
  "nbformat": 4,
  "nbformat_minor": 0,
  "metadata": {
    "kernelspec": {
      "display_name": "Python 3",
      "language": "python",
      "name": "python3"
    },
    "language_info": {
      "codemirror_mode": {
        "name": "ipython",
        "version": 3
      },
      "file_extension": ".py",
      "mimetype": "text/x-python",
      "name": "python",
      "nbconvert_exporter": "python",
      "pygments_lexer": "ipython3",
      "version": "3.7.7"
    },
    "colab": {
      "name": "bidirectional_team_rank_BNN_LSTM.ipynb",
      "provenance": [],
      "collapsed_sections": [],
      "include_colab_link": true
    },
    "accelerator": "GPU"
  },
  "cells": [
    {
      "cell_type": "markdown",
      "metadata": {
        "id": "view-in-github",
        "colab_type": "text"
      },
      "source": [
        "<a href=\"https://colab.research.google.com/github/rymuelle/CFB_pytorch_toy_minimizer/blob/master/bidirectional_team_rank_BNN_LSTM.ipynb\" target=\"_parent\"><img src=\"https://colab.research.google.com/assets/colab-badge.svg\" alt=\"Open In Colab\"/></a>"
      ]
    },
    {
      "cell_type": "code",
      "metadata": {
        "id": "o6ckid0YGdkY",
        "colab_type": "code",
        "colab": {
          "base_uri": "https://localhost:8080/",
          "height": 513
        },
        "outputId": "73710237-c3f2-4ad3-c1d3-14a384933929"
      },
      "source": [
        "pip install blitz-bayesian-pytorch"
      ],
      "execution_count": 1,
      "outputs": [
        {
          "output_type": "stream",
          "text": [
            "Collecting blitz-bayesian-pytorch\n",
            "\u001b[?25l  Downloading https://files.pythonhosted.org/packages/71/e2/d9380fa2170ca08e07d6cfc6eb231683d9003ed24fd80ecdfa74e9271686/blitz_bayesian_pytorch-0.2.5-py3-none-any.whl (45kB)\n",
            "\r\u001b[K     |███████▏                        | 10kB 18.3MB/s eta 0:00:01\r\u001b[K     |██████████████▍                 | 20kB 2.1MB/s eta 0:00:01\r\u001b[K     |█████████████████████▌          | 30kB 2.8MB/s eta 0:00:01\r\u001b[K     |████████████████████████████▊   | 40kB 3.0MB/s eta 0:00:01\r\u001b[K     |████████████████████████████████| 51kB 1.9MB/s \n",
            "\u001b[?25hCollecting torchvision==0.5.0\n",
            "\u001b[?25l  Downloading https://files.pythonhosted.org/packages/7e/90/6141bf41f5655c78e24f40f710fdd4f8a8aff6c8b7c6f0328240f649bdbe/torchvision-0.5.0-cp36-cp36m-manylinux1_x86_64.whl (4.0MB)\n",
            "\u001b[K     |████████████████████████████████| 4.0MB 7.8MB/s \n",
            "\u001b[?25hCollecting torch==1.4.0\n",
            "\u001b[?25l  Downloading https://files.pythonhosted.org/packages/24/19/4804aea17cd136f1705a5e98a00618cb8f6ccc375ad8bfa437408e09d058/torch-1.4.0-cp36-cp36m-manylinux1_x86_64.whl (753.4MB)\n",
            "\u001b[K     |████████████████████████████████| 753.4MB 22kB/s \n",
            "\u001b[?25hRequirement already satisfied: numpy in /usr/local/lib/python3.6/dist-packages (from blitz-bayesian-pytorch) (1.18.5)\n",
            "Requirement already satisfied: pillow==7.0 in /usr/local/lib/python3.6/dist-packages (from blitz-bayesian-pytorch) (7.0.0)\n",
            "Collecting scikit-learn==0.22.2\n",
            "\u001b[?25l  Downloading https://files.pythonhosted.org/packages/e1/7f/366dcba1ba076a88a50bea732dbc033c0c5bbf7876010e6edc67948579d5/scikit_learn-0.22.2-cp36-cp36m-manylinux1_x86_64.whl (7.1MB)\n",
            "\u001b[K     |████████████████████████████████| 7.1MB 14.4MB/s \n",
            "\u001b[?25hRequirement already satisfied: six in /usr/local/lib/python3.6/dist-packages (from torchvision==0.5.0->blitz-bayesian-pytorch) (1.12.0)\n",
            "Requirement already satisfied: joblib>=0.11 in /usr/local/lib/python3.6/dist-packages (from scikit-learn==0.22.2->blitz-bayesian-pytorch) (0.16.0)\n",
            "Requirement already satisfied: scipy>=0.17.0 in /usr/local/lib/python3.6/dist-packages (from scikit-learn==0.22.2->blitz-bayesian-pytorch) (1.4.1)\n",
            "Installing collected packages: torch, torchvision, scikit-learn, blitz-bayesian-pytorch\n",
            "  Found existing installation: torch 1.5.1+cu101\n",
            "    Uninstalling torch-1.5.1+cu101:\n",
            "      Successfully uninstalled torch-1.5.1+cu101\n",
            "  Found existing installation: torchvision 0.6.1+cu101\n",
            "    Uninstalling torchvision-0.6.1+cu101:\n",
            "      Successfully uninstalled torchvision-0.6.1+cu101\n",
            "  Found existing installation: scikit-learn 0.22.2.post1\n",
            "    Uninstalling scikit-learn-0.22.2.post1:\n",
            "      Successfully uninstalled scikit-learn-0.22.2.post1\n",
            "Successfully installed blitz-bayesian-pytorch-0.2.5 scikit-learn-0.22.2 torch-1.4.0 torchvision-0.5.0\n"
          ],
          "name": "stdout"
        }
      ]
    },
    {
      "cell_type": "code",
      "metadata": {
        "id": "fjCMEi0iGOhC",
        "colab_type": "code",
        "colab": {}
      },
      "source": [
        "import numpy as np\n",
        "import pandas as pd\n",
        "import os\n",
        "import math\n",
        "import matplotlib.pyplot as plt\n",
        "import time\n",
        "import pylab as pl\n",
        "from IPython import display\n",
        "from blitz.modules import BayesianLinear, BayesianLSTM\n",
        "from blitz.utils import variational_estimator\n",
        "import torch\n",
        "import torch.nn as nn"
      ],
      "execution_count": 2,
      "outputs": []
    },
    {
      "cell_type": "code",
      "metadata": {
        "id": "VXc_Eed9GvsL",
        "colab_type": "code",
        "colab": {}
      },
      "source": [
        "@variational_estimator\n",
        "class BNN_LSTM(nn.Module):\n",
        "  def __init__(self, input_size=1, hidden_layer_size=10, output_size=1,num_layers=1,use_softmax=False, device=torch.device(\"cpu\")):\n",
        "    super().__init__()\n",
        "    self.hidden_layer_size=hidden_layer_size\n",
        "    self.num_layers=num_layers\n",
        "    self.lstm=nn.LSTM(input_size,hidden_layer_size,num_layers)\n",
        "\n",
        "    self.blinear=BayesianLinear(hidden_layer_size,output_size)\n",
        "\n",
        "\n",
        "    self.hidden_cell=(torch.zeros(num_layers,1,self.hidden_layer_size),\n",
        "                      torch.zeros(num_layers,1,hidden_layer_size))\n",
        "    self.use_softmax=use_softmax\n",
        "    if use_softmax: self.softmax=nn.Softmax()\n",
        "\n",
        "    self.device = device\n",
        "\n",
        "    self.loss_array = []\n",
        "  def last_timestep(self, unpacked, lengths):\n",
        "    # Index of the last output for each sequence.\n",
        "    idx = (lengths - 1).view(-1, 1).expand(unpacked.size(0),\n",
        "                                           unpacked.size(2)).unsqueeze(1)\n",
        "    return unpacked.gather(1, idx).squeeze()\n",
        "  def forward(self, input_seq,lengths):\n",
        "    lstm_out, self.hidden_cell = self.lstm(input_seq,None)\n",
        "    out_unpacked, _ = nn.utils.rnn.pad_packed_sequence(lstm_out, batch_first=True)\n",
        "    last_outputs = self.last_timestep(out_unpacked, lengths)\n",
        "    predictions = self.blinear(last_outputs)\n",
        "    return predictions\n",
        "  def test(self, X, y,lengths, loss_function, samples = 100):\n",
        "    with torch.no_grad():\n",
        "      packed = nn.utils.rnn.pack_padded_sequence(X,lengths,batch_first=True)\n",
        "      preds = torch.stack([self(packed,lengths) for i in range(samples)])\n",
        "      means = preds.mean(axis=0)\n",
        "      stds = preds.std(axis=0)\n",
        "      single_loss=loss_function(means,y)\n",
        "    return single_loss, means, stds\n",
        "  def train(self, X, y, lengths, optimizer, loss_function, epochs=10, draw_fig=False,reg_lr=1e-5,sample_nbr=4):\n",
        "    for i in range(epochs):\n",
        "      optimizer.zero_grad()\n",
        "      packed = nn.utils.rnn.pack_padded_sequence(X,lengths,batch_first=True)\n",
        "      reg_loss = 0\n",
        "      train_loss = 0\n",
        "      for _ in range(sample_nbr):\n",
        "          y_pred = self(packed,lengths)\n",
        "          train_loss += loss_function(y_pred, y) \n",
        "          reg_loss += self.nn_kl_divergence()*reg_lr\n",
        "      reg_loss = reg_loss/sample_nbr\n",
        "      train_loss = train_loss/sample_nbr\n",
        "      loss = train_loss + reg_loss\n",
        "      loss.backward()\n",
        "      optimizer.step()\n",
        "      self.loss_array.append(train_loss.item())\n",
        "    if draw_fig:\n",
        "      pl.clf()\n",
        "      pl.plot(self.loss_array)\n",
        "      display.clear_output(wait=True)\n",
        "      display.display(pl.gcf())\n",
        "      print(f'epoch:  loss: {train_loss.item():10.8f}')\n",
        "    return self.loss_array\n",
        "  def evaluate_regression(self, X, y, lengths, samples = 100, std_multiplier = 2):\n",
        "    packed = nn.utils.rnn.pack_padded_sequence(X,lengths,batch_first=True)\n",
        "    preds = [self(packed,lengths) for i in range(samples)]\n",
        "    preds = torch.stack(preds)\n",
        "    means = preds.mean(axis=0)\n",
        "    stds = preds.std(axis=0)\n",
        "    ci_upper = means + (std_multiplier * stds)\n",
        "    ci_lower = means - (std_multiplier * stds)\n",
        "    results = (torch.stack([ci_lower,means, ci_upper],dim=2))\n",
        "    ic_acc = (ci_lower <= y) * (ci_upper >= y)\n",
        "    ic_acc = ic_acc.float().mean()\n",
        "    return ic_acc, (ci_upper >= y).float().mean(), (ci_lower <= y).float().mean(), results"
      ],
      "execution_count": 3,
      "outputs": []
    },
    {
      "cell_type": "code",
      "metadata": {
        "id": "of7Sl0puGOhn",
        "colab_type": "code",
        "colab": {}
      },
      "source": [
        "dtype = torch.float\n",
        "device = torch.device(\"cpu\")\n",
        "device = torch.device(\"cuda:0\")"
      ],
      "execution_count": 4,
      "outputs": []
    },
    {
      "cell_type": "code",
      "metadata": {
        "id": "4AKI037xGOhy",
        "colab_type": "code",
        "colab": {}
      },
      "source": [
        "n_samples = 500\n",
        "length_sample = 4\n",
        "label_std = 14\n",
        "seq_std = 14\n",
        "label_offset = 0\n",
        "label_std = label_std/40\n",
        "seq_std = seq_std/40\n",
        "label_offset =.5\n",
        "def create_sample(n_samples,length_sample,label_std,seq_std, label_offset):\n",
        "    labels = np.random.normal(label_offset, label_std, size=(n_samples, 1))\n",
        "    \n",
        "    std_array = np.abs(np.random.normal(seq_std, seq_std/2, size=(n_samples, length_sample)))\n",
        "    for index, label in enumerate(labels):\n",
        "      std_array[index]*=abs(label)*1\n",
        "    #std_array.fill(.1)\n",
        "    seqs = np.random.normal(0, std_array, size=(n_samples, length_sample))\n",
        "    seqs = seqs+labels\n",
        "    seqs = [torch.FloatTensor((seq).tolist()).to(device) for seq in seqs]\n",
        "    std_array = [torch.FloatTensor((std).tolist()).to(device) for std in std_array]\n",
        "    labels = [torch.FloatTensor((lab).tolist()).to(device) for lab in labels]\n",
        "    seq_std_stacks = [(torch.stack([seq,std_array[index]],dim=1)) for index, seq in enumerate(seqs)]\n",
        "    seq_std_stacks = torch.stack(seq_std_stacks).to(device)\n",
        "    labels = torch.stack(labels).to(device)\n",
        "    lengths = torch.tensor([len(seq_std_stack) for seq_std_stack in seq_std_stacks],device=device,dtype=torch.int64)\n",
        "    return seq_std_stacks,labels,lengths"
      ],
      "execution_count": 5,
      "outputs": []
    },
    {
      "cell_type": "code",
      "metadata": {
        "id": "aqsVB7cnGOh6",
        "colab_type": "code",
        "colab": {}
      },
      "source": [
        "seq_std_stacks,labels,lengths = create_sample(n_samples,length_sample,label_std,seq_std,label_offset)"
      ],
      "execution_count": 6,
      "outputs": []
    },
    {
      "cell_type": "code",
      "metadata": {
        "id": "04WWKCEMGOiB",
        "colab_type": "code",
        "colab": {}
      },
      "source": [
        "def weighted_average_loss(seq_std_stacks,labels):\n",
        "    array = []\n",
        "    array_weighted = []\n",
        "    for index, seq_std_stack in enumerate(seq_std_stacks):\n",
        "        label = labels[index]\n",
        "        seq,std = torch.split(seq_std_stack,1, dim=1)\n",
        "        average = torch.mean(seq).item()\n",
        "        weight = 1.0/(std**2)\n",
        "        weighted_average = np.average(seq.tolist(), weights = weight.tolist())\n",
        "        array.append((average-label.item())**2)\n",
        "        array_weighted.append((weighted_average-label.item())**2)\n",
        "    loss_average = np.mean(array)\n",
        "    loss_average_weighted = np.mean(array_weighted)\n",
        "    return loss_average, loss_average_weighted"
      ],
      "execution_count": 7,
      "outputs": []
    },
    {
      "cell_type": "code",
      "metadata": {
        "id": "CnZZQAoQGOiG",
        "colab_type": "code",
        "colab": {
          "base_uri": "https://localhost:8080/",
          "height": 51
        },
        "outputId": "5432191a-ab35-4674-9e7b-fa35376da2c6"
      },
      "source": [
        "loss_average, loss_average_weighted = weighted_average_loss(seq_std_stacks,labels)\n",
        "print(\"unweighted\",  loss_average)\n",
        "print(\"weighted\", loss_average_weighted)"
      ],
      "execution_count": 8,
      "outputs": [
        {
          "output_type": "stream",
          "text": [
            "unweighted 0.013759634265093194\n",
            "weighted 0.006628138940029337\n"
          ],
          "name": "stdout"
        }
      ]
    },
    {
      "cell_type": "code",
      "metadata": {
        "id": "4nwyMTB0GOiJ",
        "colab_type": "code",
        "colab": {
          "base_uri": "https://localhost:8080/",
          "height": 170
        },
        "outputId": "5bc7b24a-941c-464a-a6e6-a7ed9f3472e6"
      },
      "source": [
        "model=BNN_LSTM(input_size=2,hidden_layer_size=16,output_size=1,num_layers=1).to(device)\n",
        "#loss_function=nn.CrossEntropyLoss()\n",
        "#optimizer=torch.optim.Adam(model.parameters(), lr=1e-4)\n",
        "loss_function=nn.MSELoss()\n",
        "optimizer=torch.optim.Adam(model.parameters(), lr=1e-2)\n",
        "print(model)"
      ],
      "execution_count": 9,
      "outputs": [
        {
          "output_type": "stream",
          "text": [
            "BNN_LSTM(\n",
            "  (lstm): LSTM(2, 16)\n",
            "  (blinear): BayesianLinear(\n",
            "    (weight_sampler): TrainableRandomDistribution()\n",
            "    (bias_sampler): TrainableRandomDistribution()\n",
            "    (weight_prior_dist): PriorWeightDistribution()\n",
            "    (bias_prior_dist): PriorWeightDistribution()\n",
            "  )\n",
            ")\n"
          ],
          "name": "stdout"
        }
      ]
    },
    {
      "cell_type": "code",
      "metadata": {
        "id": "OnqhaYEaGOiN",
        "colab_type": "code",
        "colab": {
          "base_uri": "https://localhost:8080/",
          "height": 265
        },
        "outputId": "00314efd-464b-4c54-8b9c-059f298881a0"
      },
      "source": [
        "seq_std_stacks,labels,lengths = create_sample(n_samples*3,length_sample,label_std,seq_std,label_offset)\n",
        "loss_average, loss_average_weighted = weighted_average_loss(seq_std_stacks,labels)\n",
        "optimizer=torch.optim.Adam(model.parameters(), lr=1e-2)\n",
        "draw_fig=True\n",
        "acc_array=[]\n",
        "epoch_array=[]\n",
        "for i in range(600):\n",
        "    seq_std_stacks,labels,lengths = create_sample(n_samples*3,length_sample,label_std,seq_std,label_offset)\n",
        "    loss_array = model.train(seq_std_stacks,labels,lengths,optimizer,loss_function,epochs=4,draw_fig=False,reg_lr=1e-5,sample_nbr=4)\n",
        "    if draw_fig:\n",
        "        pl.clf()\n",
        "        pl.yscale('log')\n",
        "        pl.plot(loss_array)\n",
        "        pl.plot([0,len(loss_array)],[loss_average,loss_average])\n",
        "        pl.plot([0,len(loss_array)],[loss_average_weighted,loss_average_weighted])\n",
        "        pl.plot(epoch_array,acc_array)\n",
        "        pl.plot([0,len(loss_array)],[.68,.68])\n",
        "        pl.plot([0,len(loss_array)],[.95,.95])\n",
        "        #print(f'epoch: {i:3}  loss: {loss_array[-1]:10.8f}')\n",
        "        display.clear_output(wait=True)\n",
        "        display.display(pl.gcf())\n",
        "        if i%10==0:\n",
        "            ic_acc, under_ci_upper, over_ci_lower,_ = model.evaluate_regression(seq_std_stacks,labels,lengths,samples=25,std_multiplier=3)\n",
        "            acc_array.append(ic_acc)\n",
        "            epoch_array.append(len(loss_array))\n",
        "        #print(\"CI acc: {:.2f}, CI upper acc: {:.2f}, CI lower acc: {:.2f}\".format(ic_acc, under_ci_upper, over_ci_lower))\n",
        "    if i ==450: optimizer=torch.optim.Adam(model.parameters(), lr=1e-3)\n",
        "    #if i ==400: optimizer=torch.optim.Adam(model.parameters(), lr=1e-4)"
      ],
      "execution_count": null,
      "outputs": [
        {
          "output_type": "display_data",
          "data": {
            "image/png": "[encoded data removed]",
            "text/plain": [
              "<Figure size 432x288 with 1 Axes>"
            ]
          },
          "metadata": {
            "tags": []
          }
        }
      ]
    },
    {
      "cell_type": "code",
      "metadata": {
        "id": "EUuXuQIQGOiS",
        "colab_type": "code",
        "colab": {},
        "outputId": "9c98be14-004c-41f2-d83a-5213d16c3584"
      },
      "source": [
        "print(model)"
      ],
      "execution_count": null,
      "outputs": [
        {
          "output_type": "stream",
          "text": [
            "BNN_LSTM(\n",
            "  (lstm): LSTM(2, 16)\n",
            "  (blinear): BayesianLinear(\n",
            "    (weight_sampler): TrainableRandomDistribution()\n",
            "    (bias_sampler): TrainableRandomDistribution()\n",
            "    (weight_prior_dist): PriorWeightDistribution()\n",
            "    (bias_prior_dist): PriorWeightDistribution()\n",
            "  )\n",
            ")\n"
          ],
          "name": "stdout"
        }
      ]
    },
    {
      "cell_type": "code",
      "metadata": {
        "id": "j56nUlN3GOiV",
        "colab_type": "code",
        "colab": {
          "base_uri": "https://localhost:8080/",
          "height": 299
        },
        "outputId": "f1428a1e-f1ce-4fa6-9973-c4c8d532d081"
      },
      "source": [
        "seq_std_stacks,labels,lengths = create_sample(5*n_samples,length_sample,label_std,seq_std,label_offset)\n",
        "ic_acc, under_ci_upper, over_ci_lower,results = model.evaluate_regression(X=seq_std_stacks,y=labels,lengths=lengths,std_multiplier=7)\n",
        "print(ic_acc, under_ci_upper, over_ci_lower,ic_acc+under_ci_upper+over_ci_lower)\n",
        "act_arr=[]\n",
        "pred_array=[]\n",
        "pred_array_up=[]\n",
        "pred_array_down=[]\n",
        "for index, result in enumerate(results):\n",
        "    act_arr.append(labels[index].item())\n",
        "    pred_array.append(result[0][1].item())\n",
        "    pred_array_up.append(result[0][2].item())\n",
        "    pred_array_down.append(result[0][0].item())\n",
        "    \n",
        "pred_array, act_arr,pred_array_up,pred_array_down = zip(*sorted(zip(pred_array, act_arr,pred_array_up,pred_array_down)))\n",
        "pl.plot(act_arr,'b.',label='act_arr', alpha=.2)\n",
        "pl.plot(pred_array_down,label='pred_array_down')\n",
        "pl.plot(pred_array,label='pred_array')\n",
        "pl.plot(pred_array_up,label='pred_array_up')"
      ],
      "execution_count": null,
      "outputs": [
        {
          "output_type": "stream",
          "text": [
            "tensor(0.7012, device='cuda:0') tensor(0.8208, device='cuda:0') tensor(0.8804, device='cuda:0') tensor(2.4024, device='cuda:0')\n"
          ],
          "name": "stdout"
        },
        {
          "output_type": "execute_result",
          "data": {
            "text/plain": [
              "[<matplotlib.lines.Line2D at 0x7f702b2a7588>]"
            ]
          },
          "metadata": {
            "tags": []
          },
          "execution_count": 147
        },
        {
          "output_type": "display_data",
          "data": {
            "image/png": "[encoded data removed]",
            "text/plain": [
              "<Figure size 432x288 with 1 Axes>"
            ]
          },
          "metadata": {
            "tags": [],
            "needs_background": "light"
          }
        }
      ]
    },
    {
      "cell_type": "code",
      "metadata": {
        "id": "O-PtBKPFGOia",
        "colab_type": "code",
        "colab": {
          "base_uri": "https://localhost:8080/",
          "height": 85
        },
        "outputId": "359a1daf-d032-4641-f31d-cce8d03b1733"
      },
      "source": [
        "seq_std_stacks,labels,lengths = create_sample(n_samples,length_sample,label_std,seq_std,label_offset)\n",
        "loss, preds, stds=model.test(seq_std_stacks,labels,lengths,loss_function,samples = 200)\n",
        "loss_2=[]\n",
        "chi_2=[]\n",
        "for index, pred in enumerate(preds):\n",
        "    loss_2.append((pred.item()-labels[index].item())**2)\n",
        "    chi_2.append((pred.item()-labels[index].item())**2/stds[index].item()**2)\n",
        "loss_average, loss_average_weighted = weighted_average_loss(seq_std_stacks,labels)\n",
        "print(\"unweighted average loss {}\".format(loss_average))\n",
        "print(\"weigthed average loss {}\".format(loss_average_weighted))\n",
        "print(\"manual LSTM loss {} chi2: {}\".format(np.mean(loss_2),np.mean(chi_2)))\n",
        "print(\"torch loss {}\".format(loss))"
      ],
      "execution_count": null,
      "outputs": [
        {
          "output_type": "stream",
          "text": [
            "unweighted average loss 0.013805671438912558\n",
            "weigthed average loss 0.006968230239582695\n",
            "manual LSTM loss 0.0038234160179055825 chi2: 67.63224176318752\n",
            "torch loss 0.003823415841907263\n"
          ],
          "name": "stdout"
        }
      ]
    },
    {
      "cell_type": "code",
      "metadata": {
        "id": "Y7uSK7ebGOid",
        "colab_type": "code",
        "colab": {}
      },
      "source": [
        "n_samples = 500\n",
        "length_sample = 8\n",
        "labels = np.random.rand(n_samples, 1)\n",
        "seqs = (np.random.rand(n_samples, length_sample)-.5)/2+labels\n",
        "in_out_seq = [(torch.FloatTensor((seqs[index]).tolist()).to(device),\n",
        "               torch.FloatTensor(label.tolist()).to(device))\n",
        "              for index, label in enumerate(labels)]"
      ],
      "execution_count": null,
      "outputs": []
    },
    {
      "cell_type": "code",
      "metadata": {
        "id": "KHbca2EPGOja",
        "colab_type": "code",
        "colab": {}
      },
      "source": [
        "mean_std=torch.FloatTensor([[1,.5]])\n"
      ],
      "execution_count": null,
      "outputs": []
    },
    {
      "cell_type": "code",
      "metadata": {
        "id": "ntrhOiVbGOjd",
        "colab_type": "code",
        "colab": {}
      },
      "source": [
        ""
      ],
      "execution_count": null,
      "outputs": []
    }
  ]
}